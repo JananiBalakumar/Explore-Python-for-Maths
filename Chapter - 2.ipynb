{
 "cells": [
  {
   "cell_type": "markdown",
   "id": "cee78dcb",
   "metadata": {},
   "source": [
    "# 2.1 Data Types "
   ]
  },
  {
   "cell_type": "markdown",
   "id": "d1921eac",
   "metadata": {},
   "source": [
    "## Numbers"
   ]
  },
  {
   "cell_type": "markdown",
   "id": "aebb3372",
   "metadata": {},
   "source": [
    "## Integer"
   ]
  },
  {
   "cell_type": "code",
   "execution_count": 1,
   "id": "281a37d2",
   "metadata": {},
   "outputs": [
    {
     "name": "stdout",
     "output_type": "stream",
     "text": [
      "<class 'int'>\n"
     ]
    }
   ],
   "source": [
    "integer = 3\n",
    "print(type(integer))\n"
   ]
  },
  {
   "cell_type": "code",
   "execution_count": 46,
   "id": "07d8c59f",
   "metadata": {},
   "outputs": [
    {
     "name": "stdout",
     "output_type": "stream",
     "text": [
      "3\n"
     ]
    }
   ],
   "source": [
    "print(integer)"
   ]
  },
  {
   "cell_type": "code",
   "execution_count": 48,
   "id": "380cf90f",
   "metadata": {},
   "outputs": [
    {
     "name": "stdout",
     "output_type": "stream",
     "text": [
      "<class 'int'>\n"
     ]
    }
   ],
   "source": [
    "integer1 = int(3.2)\n",
    "print(type(integer1))"
   ]
  },
  {
   "cell_type": "code",
   "execution_count": 49,
   "id": "e705c5af",
   "metadata": {},
   "outputs": [
    {
     "name": "stdout",
     "output_type": "stream",
     "text": [
      "3\n"
     ]
    }
   ],
   "source": [
    "print(integer1)"
   ]
  },
  {
   "cell_type": "markdown",
   "id": "5a7fe61b",
   "metadata": {},
   "source": [
    "## Float"
   ]
  },
  {
   "cell_type": "code",
   "execution_count": 50,
   "id": "b2f7e471",
   "metadata": {},
   "outputs": [
    {
     "name": "stdout",
     "output_type": "stream",
     "text": [
      "<class 'float'>\n"
     ]
    }
   ],
   "source": [
    "decimal = 3.5\n",
    "print(type(decimal))"
   ]
  },
  {
   "cell_type": "code",
   "execution_count": 51,
   "id": "4f721535",
   "metadata": {},
   "outputs": [
    {
     "name": "stdout",
     "output_type": "stream",
     "text": [
      "3.5\n"
     ]
    }
   ],
   "source": [
    "print(decimal)"
   ]
  },
  {
   "cell_type": "code",
   "execution_count": 53,
   "id": "31a2b98d",
   "metadata": {},
   "outputs": [
    {
     "name": "stdout",
     "output_type": "stream",
     "text": [
      "<class 'float'>\n"
     ]
    }
   ],
   "source": [
    "decimal1 = float(2)\n",
    "print(type(decimal1))"
   ]
  },
  {
   "cell_type": "code",
   "execution_count": 57,
   "id": "d577c426",
   "metadata": {},
   "outputs": [
    {
     "name": "stdout",
     "output_type": "stream",
     "text": [
      "2.0\n"
     ]
    }
   ],
   "source": [
    "print(decimal1)"
   ]
  },
  {
   "cell_type": "markdown",
   "id": "13fe94ce",
   "metadata": {},
   "source": [
    "## Complex "
   ]
  },
  {
   "cell_type": "code",
   "execution_count": 59,
   "id": "0e3f8179",
   "metadata": {},
   "outputs": [
    {
     "name": "stdout",
     "output_type": "stream",
     "text": [
      "<class 'complex'>\n"
     ]
    }
   ],
   "source": [
    "com1 = 3+2j\n",
    "print(type(com1))"
   ]
  },
  {
   "cell_type": "code",
   "execution_count": 60,
   "id": "9c762138",
   "metadata": {},
   "outputs": [
    {
     "name": "stdout",
     "output_type": "stream",
     "text": [
      "(3+2j)\n"
     ]
    }
   ],
   "source": [
    "print(com1)"
   ]
  },
  {
   "cell_type": "code",
   "execution_count": 55,
   "id": "1fc310e2",
   "metadata": {},
   "outputs": [
    {
     "name": "stdout",
     "output_type": "stream",
     "text": [
      "<class 'complex'>\n"
     ]
    }
   ],
   "source": [
    "com = complex(2,4)\n",
    "print(type(com))"
   ]
  },
  {
   "cell_type": "code",
   "execution_count": 56,
   "id": "35813ead",
   "metadata": {},
   "outputs": [
    {
     "name": "stdout",
     "output_type": "stream",
     "text": [
      "(2+4j)\n"
     ]
    }
   ],
   "source": [
    "print(com)"
   ]
  },
  {
   "cell_type": "code",
   "execution_count": 2,
   "id": "a7893e22",
   "metadata": {},
   "outputs": [
    {
     "data": {
      "text/plain": [
       "2.0"
      ]
     },
     "execution_count": 2,
     "metadata": {},
     "output_type": "execute_result"
    }
   ],
   "source": [
    "(2+4j).real"
   ]
  },
  {
   "cell_type": "code",
   "execution_count": 3,
   "id": "b1c6c377",
   "metadata": {},
   "outputs": [
    {
     "data": {
      "text/plain": [
       "4.0"
      ]
     },
     "execution_count": 3,
     "metadata": {},
     "output_type": "execute_result"
    }
   ],
   "source": [
    "(2+4j).imag"
   ]
  },
  {
   "cell_type": "markdown",
   "id": "1101fa32",
   "metadata": {},
   "source": [
    "# String"
   ]
  },
  {
   "cell_type": "code",
   "execution_count": 62,
   "id": "940de29f",
   "metadata": {},
   "outputs": [
    {
     "name": "stdout",
     "output_type": "stream",
     "text": [
      "<class 'str'>\n"
     ]
    }
   ],
   "source": [
    "text = str('Python for Maths')\n",
    "print(type(text))"
   ]
  },
  {
   "cell_type": "code",
   "execution_count": 63,
   "id": "d46d39e0",
   "metadata": {},
   "outputs": [
    {
     "name": "stdout",
     "output_type": "stream",
     "text": [
      "Python for Maths\n"
     ]
    }
   ],
   "source": [
    "print(text)"
   ]
  },
  {
   "cell_type": "code",
   "execution_count": 64,
   "id": "fc363c23",
   "metadata": {},
   "outputs": [
    {
     "name": "stdout",
     "output_type": "stream",
     "text": [
      "<class 'str'>\n"
     ]
    }
   ],
   "source": [
    "text1 = \"Python for Maths\"\n",
    "print(type(text1))"
   ]
  },
  {
   "cell_type": "code",
   "execution_count": 66,
   "id": "1129c38f",
   "metadata": {},
   "outputs": [
    {
     "name": "stdout",
     "output_type": "stream",
     "text": [
      "Python for Maths\n"
     ]
    }
   ],
   "source": [
    "print(text1)"
   ]
  },
  {
   "cell_type": "code",
   "execution_count": 71,
   "id": "fd1e6b82",
   "metadata": {},
   "outputs": [
    {
     "data": {
      "text/plain": [
       "'h'"
      ]
     },
     "execution_count": 71,
     "metadata": {},
     "output_type": "execute_result"
    }
   ],
   "source": [
    "subject = 'Maths'\n",
    "subject[3]"
   ]
  },
  {
   "cell_type": "code",
   "execution_count": 4,
   "id": "819126ba",
   "metadata": {},
   "outputs": [
    {
     "data": {
      "text/plain": [
       "'t'"
      ]
     },
     "execution_count": 4,
     "metadata": {},
     "output_type": "execute_result"
    }
   ],
   "source": [
    "subject = 'Maths'\n",
    "subject[-3]"
   ]
  },
  {
   "cell_type": "code",
   "execution_count": 74,
   "id": "0b3c49f4",
   "metadata": {},
   "outputs": [
    {
     "name": "stdout",
     "output_type": "stream",
     "text": [
      "<class 'bool'>\n"
     ]
    }
   ],
   "source": [
    "a = 1\n",
    "b = 2\n",
    "print(type(a>b))"
   ]
  },
  {
   "cell_type": "code",
   "execution_count": 75,
   "id": "dfdf3a17",
   "metadata": {},
   "outputs": [
    {
     "name": "stdout",
     "output_type": "stream",
     "text": [
      "False\n"
     ]
    }
   ],
   "source": [
    "print(a>b)"
   ]
  },
  {
   "cell_type": "code",
   "execution_count": 76,
   "id": "572e8bb8",
   "metadata": {},
   "outputs": [
    {
     "name": "stdout",
     "output_type": "stream",
     "text": [
      "<class 'bool'>\n"
     ]
    }
   ],
   "source": [
    "print(type(b>a))"
   ]
  },
  {
   "cell_type": "code",
   "execution_count": 77,
   "id": "744ed8a1",
   "metadata": {},
   "outputs": [
    {
     "name": "stdout",
     "output_type": "stream",
     "text": [
      "True\n"
     ]
    }
   ],
   "source": [
    "print(b>a)"
   ]
  },
  {
   "cell_type": "markdown",
   "id": "f279002f",
   "metadata": {},
   "source": [
    "# 2.2 Data Structures"
   ]
  },
  {
   "cell_type": "markdown",
   "id": "91302246",
   "metadata": {},
   "source": [
    "## List"
   ]
  },
  {
   "cell_type": "markdown",
   "id": "037ade50",
   "metadata": {},
   "source": [
    "### Creating a List"
   ]
  },
  {
   "cell_type": "code",
   "execution_count": 16,
   "id": "d5cef188",
   "metadata": {},
   "outputs": [
    {
     "name": "stdout",
     "output_type": "stream",
     "text": [
      "<class 'list'>\n"
     ]
    }
   ],
   "source": [
    "listitem = [1,1,2,3,5,'Square', 'Rectangle', 3.14]\n",
    "\n",
    "print(type(listitem))"
   ]
  },
  {
   "cell_type": "code",
   "execution_count": 17,
   "id": "d7ef54b4",
   "metadata": {},
   "outputs": [
    {
     "name": "stdout",
     "output_type": "stream",
     "text": [
      "[1, 1, 2, 3, 5, 'square', 'rectangle', 3.14]\n"
     ]
    }
   ],
   "source": [
    "print(listitem)"
   ]
  },
  {
   "cell_type": "markdown",
   "id": "c3c85020",
   "metadata": {},
   "source": [
    "### Accessing values in List"
   ]
  },
  {
   "cell_type": "code",
   "execution_count": 18,
   "id": "29d93fc7",
   "metadata": {},
   "outputs": [
    {
     "name": "stdout",
     "output_type": "stream",
     "text": [
      "square\n"
     ]
    }
   ],
   "source": [
    "print(listitem[5])"
   ]
  },
  {
   "cell_type": "code",
   "execution_count": 19,
   "id": "a3dfb477",
   "metadata": {},
   "outputs": [
    {
     "name": "stdout",
     "output_type": "stream",
     "text": [
      "3.14\n"
     ]
    }
   ],
   "source": [
    "print(listitem[-1])"
   ]
  },
  {
   "cell_type": "markdown",
   "id": "0b53c2f2",
   "metadata": {},
   "source": [
    "### Updating List"
   ]
  },
  {
   "cell_type": "code",
   "execution_count": 20,
   "id": "e18da535",
   "metadata": {},
   "outputs": [
    {
     "name": "stdout",
     "output_type": "stream",
     "text": [
      "[1, 1, 2, 3, 5, 'sphere', 'rectangle', 3.14]\n"
     ]
    }
   ],
   "source": [
    "listitem[5] = 'Sphere'\n",
    "print(listitem)"
   ]
  },
  {
   "cell_type": "code",
   "execution_count": 21,
   "id": "88a64479",
   "metadata": {},
   "outputs": [
    {
     "name": "stdout",
     "output_type": "stream",
     "text": [
      "[1, 1, 2, 3, 5, 'sphere', 'rectangle', 6.28]\n"
     ]
    }
   ],
   "source": [
    "listitem[7] = 6.28\n",
    "print(listitem)"
   ]
  },
  {
   "cell_type": "markdown",
   "id": "082d6a20",
   "metadata": {},
   "source": [
    "### Deleting list elements"
   ]
  },
  {
   "cell_type": "code",
   "execution_count": 22,
   "id": "04076966",
   "metadata": {},
   "outputs": [
    {
     "name": "stdout",
     "output_type": "stream",
     "text": [
      "[1, 1, 2, 3, 5, 'rectangle', 6.28]\n"
     ]
    }
   ],
   "source": [
    "del listitem[5] \n",
    "print(listitem)"
   ]
  },
  {
   "cell_type": "code",
   "execution_count": 23,
   "id": "0f7756ef",
   "metadata": {},
   "outputs": [
    {
     "name": "stdout",
     "output_type": "stream",
     "text": [
      "[1, 1, 2, 3, 5, 'rectangle']\n"
     ]
    }
   ],
   "source": [
    "listitem.remove(6.28)\n",
    "print(listitem)"
   ]
  },
  {
   "cell_type": "markdown",
   "id": "88785ad5",
   "metadata": {},
   "source": [
    "## Tuples"
   ]
  },
  {
   "cell_type": "markdown",
   "id": "b7e533c2",
   "metadata": {},
   "source": [
    "### Creating Tuples"
   ]
  },
  {
   "cell_type": "code",
   "execution_count": 25,
   "id": "9d433f2f",
   "metadata": {},
   "outputs": [
    {
     "name": "stdout",
     "output_type": "stream",
     "text": [
      "<class 'tuple'>\n"
     ]
    }
   ],
   "source": [
    "tup = ('fibonacci', 'pi', 3.14, 4)\n",
    "print(type(tup))"
   ]
  },
  {
   "cell_type": "code",
   "execution_count": 26,
   "id": "b4e6cfff",
   "metadata": {},
   "outputs": [
    {
     "ename": "TypeError",
     "evalue": "'tuple' object does not support item assignment",
     "output_type": "error",
     "traceback": [
      "\u001b[1;31m---------------------------------------------------------------------------\u001b[0m",
      "\u001b[1;31mTypeError\u001b[0m                                 Traceback (most recent call last)",
      "\u001b[1;32m~\\AppData\\Local\\Temp\\ipykernel_14044\\1804797242.py\u001b[0m in \u001b[0;36m<module>\u001b[1;34m\u001b[0m\n\u001b[1;32m----> 1\u001b[1;33m \u001b[0mtup\u001b[0m\u001b[1;33m[\u001b[0m\u001b[1;36m0\u001b[0m\u001b[1;33m]\u001b[0m \u001b[1;33m=\u001b[0m \u001b[1;34m\"6.28\"\u001b[0m\u001b[1;33m\u001b[0m\u001b[1;33m\u001b[0m\u001b[0m\n\u001b[0m",
      "\u001b[1;31mTypeError\u001b[0m: 'tuple' object does not support item assignment"
     ]
    }
   ],
   "source": [
    "tup[0] = \"6.28\""
   ]
  },
  {
   "cell_type": "markdown",
   "id": "0dd77aaa",
   "metadata": {},
   "source": [
    "### Accessing tuple values"
   ]
  },
  {
   "cell_type": "code",
   "execution_count": 3,
   "id": "7c9a421f",
   "metadata": {},
   "outputs": [
    {
     "data": {
      "text/plain": [
       "'fibonacci'"
      ]
     },
     "execution_count": 3,
     "metadata": {},
     "output_type": "execute_result"
    }
   ],
   "source": [
    "tup[0]"
   ]
  },
  {
   "cell_type": "code",
   "execution_count": 4,
   "id": "91e97acd",
   "metadata": {},
   "outputs": [
    {
     "data": {
      "text/plain": [
       "4"
      ]
     },
     "execution_count": 4,
     "metadata": {},
     "output_type": "execute_result"
    }
   ],
   "source": [
    "tup[-1]"
   ]
  },
  {
   "cell_type": "markdown",
   "id": "c7a2cd34",
   "metadata": {},
   "source": [
    "### Deleting tuple elements"
   ]
  },
  {
   "cell_type": "code",
   "execution_count": 5,
   "id": "9081a33f",
   "metadata": {},
   "outputs": [],
   "source": [
    "del tup"
   ]
  },
  {
   "cell_type": "code",
   "execution_count": 6,
   "id": "bbd216c4",
   "metadata": {},
   "outputs": [
    {
     "ename": "NameError",
     "evalue": "name 'tup' is not defined",
     "output_type": "error",
     "traceback": [
      "\u001b[0;31m---------------------------------------------------------------------------\u001b[0m",
      "\u001b[0;31mNameError\u001b[0m                                 Traceback (most recent call last)",
      "\u001b[0;32m/var/folders/c_/rmq_xl2n7hl5d625bx8r73fc0000gn/T/ipykernel_1792/1450280469.py\u001b[0m in \u001b[0;36m<module>\u001b[0;34m\u001b[0m\n\u001b[0;32m----> 1\u001b[0;31m \u001b[0mtup\u001b[0m\u001b[0;34m\u001b[0m\u001b[0;34m\u001b[0m\u001b[0m\n\u001b[0m",
      "\u001b[0;31mNameError\u001b[0m: name 'tup' is not defined"
     ]
    }
   ],
   "source": [
    "print(tup)"
   ]
  },
  {
   "cell_type": "markdown",
   "id": "cf18fb51",
   "metadata": {},
   "source": [
    "## Sets"
   ]
  },
  {
   "cell_type": "markdown",
   "id": "ce7f33dc",
   "metadata": {},
   "source": [
    "### Creating Sets"
   ]
  },
  {
   "cell_type": "code",
   "execution_count": 39,
   "id": "e66df8cd",
   "metadata": {},
   "outputs": [
    {
     "name": "stdout",
     "output_type": "stream",
     "text": [
      "<class 'set'>\n"
     ]
    }
   ],
   "source": [
    "numbers_even = set((2,4,6,8,10))\n",
    "print(type(numbers_even))"
   ]
  },
  {
   "cell_type": "code",
   "execution_count": 40,
   "id": "ad82fe01",
   "metadata": {},
   "outputs": [
    {
     "name": "stdout",
     "output_type": "stream",
     "text": [
      "<class 'set'>\n"
     ]
    }
   ],
   "source": [
    "numbers_odd = {1,3,5,7,9}\n",
    "print(type(numbers_odd))"
   ]
  },
  {
   "cell_type": "markdown",
   "id": "dbcb66f2",
   "metadata": {},
   "source": [
    "### Accessing values in sets"
   ]
  },
  {
   "cell_type": "code",
   "execution_count": 41,
   "id": "6d209c9d",
   "metadata": {},
   "outputs": [
    {
     "name": "stdout",
     "output_type": "stream",
     "text": [
      "1\n",
      "3\n",
      "5\n",
      "7\n",
      "9\n"
     ]
    }
   ],
   "source": [
    "for num in numbers_odd:\n",
    "    print(num)"
   ]
  },
  {
   "cell_type": "code",
   "execution_count": 42,
   "id": "d48467ba",
   "metadata": {},
   "outputs": [
    {
     "name": "stdout",
     "output_type": "stream",
     "text": [
      "{2, 4, 6, 8, 10}\n"
     ]
    }
   ],
   "source": [
    "print(numbers_even)"
   ]
  },
  {
   "cell_type": "code",
   "execution_count": 43,
   "id": "de3559c9",
   "metadata": {},
   "outputs": [
    {
     "name": "stdout",
     "output_type": "stream",
     "text": [
      "{1, 3, 5, 7, 9}\n"
     ]
    }
   ],
   "source": [
    "print(numbers_odd)"
   ]
  },
  {
   "cell_type": "markdown",
   "id": "2a7b3901",
   "metadata": {},
   "source": [
    "### Adding items to a set"
   ]
  },
  {
   "cell_type": "code",
   "execution_count": 44,
   "id": "6c1c5b85",
   "metadata": {},
   "outputs": [
    {
     "name": "stdout",
     "output_type": "stream",
     "text": [
      "{2, 4, 6, 8, 10, 12}\n"
     ]
    }
   ],
   "source": [
    "numbers_even.add(12)\n",
    "print(numbers_even)"
   ]
  },
  {
   "cell_type": "code",
   "execution_count": 45,
   "id": "2a8494ed",
   "metadata": {},
   "outputs": [
    {
     "name": "stdout",
     "output_type": "stream",
     "text": [
      "{1, 3, 5, 7, 9, 11, 13, 15, 17}\n"
     ]
    }
   ],
   "source": [
    "numbers_odd.update([11,13,15,17])\n",
    "print(numbers_odd)"
   ]
  },
  {
   "cell_type": "markdown",
   "id": "f7d73e7e",
   "metadata": {},
   "source": [
    "### Removing items from a set"
   ]
  },
  {
   "cell_type": "code",
   "execution_count": 46,
   "id": "06dffb11",
   "metadata": {},
   "outputs": [
    {
     "name": "stdout",
     "output_type": "stream",
     "text": [
      "{2, 4, 6, 8, 10, 12}\n"
     ]
    }
   ],
   "source": [
    "print(numbers_even)"
   ]
  },
  {
   "cell_type": "code",
   "execution_count": 47,
   "id": "8aaaaf33",
   "metadata": {},
   "outputs": [
    {
     "name": "stdout",
     "output_type": "stream",
     "text": [
      "{2, 4, 6, 8, 10}\n"
     ]
    }
   ],
   "source": [
    "numbers_even.discard(12)\n",
    "print(numbers_even)"
   ]
  },
  {
   "cell_type": "code",
   "execution_count": 48,
   "id": "fd380cc6",
   "metadata": {},
   "outputs": [
    {
     "name": "stdout",
     "output_type": "stream",
     "text": [
      "{2, 4, 6, 8}\n"
     ]
    }
   ],
   "source": [
    "numbers_even.remove(10)\n",
    "print(numbers_even)"
   ]
  },
  {
   "cell_type": "code",
   "execution_count": 49,
   "id": "7e238440",
   "metadata": {},
   "outputs": [
    {
     "name": "stdout",
     "output_type": "stream",
     "text": [
      "{2, 4, 6, 8}\n"
     ]
    }
   ],
   "source": [
    "numbers_even.discard(10)\n",
    "print(numbers_even)"
   ]
  },
  {
   "cell_type": "code",
   "execution_count": 50,
   "id": "3cb91ce1",
   "metadata": {},
   "outputs": [
    {
     "ename": "KeyError",
     "evalue": "10",
     "output_type": "error",
     "traceback": [
      "\u001b[1;31m---------------------------------------------------------------------------\u001b[0m",
      "\u001b[1;31mKeyError\u001b[0m                                  Traceback (most recent call last)",
      "\u001b[1;32m~\\AppData\\Local\\Temp\\ipykernel_14044\\3066733198.py\u001b[0m in \u001b[0;36m<module>\u001b[1;34m\u001b[0m\n\u001b[1;32m----> 1\u001b[1;33m \u001b[0mnumbers_even\u001b[0m\u001b[1;33m.\u001b[0m\u001b[0mremove\u001b[0m\u001b[1;33m(\u001b[0m\u001b[1;36m10\u001b[0m\u001b[1;33m)\u001b[0m\u001b[1;33m\u001b[0m\u001b[1;33m\u001b[0m\u001b[0m\n\u001b[0m\u001b[0;32m      2\u001b[0m \u001b[0mprint\u001b[0m\u001b[1;33m(\u001b[0m\u001b[0mnumbers_even\u001b[0m\u001b[1;33m)\u001b[0m\u001b[1;33m\u001b[0m\u001b[1;33m\u001b[0m\u001b[0m\n",
      "\u001b[1;31mKeyError\u001b[0m: 10"
     ]
    }
   ],
   "source": [
    "numbers_even.remove(10)\n",
    "print(numbers_even)"
   ]
  },
  {
   "cell_type": "markdown",
   "id": "464dcaf1",
   "metadata": {},
   "source": [
    "## Dictionary"
   ]
  },
  {
   "cell_type": "markdown",
   "id": "679bf80d",
   "metadata": {},
   "source": [
    "### Creating dictionary"
   ]
  },
  {
   "cell_type": "code",
   "execution_count": 51,
   "id": "a918815d",
   "metadata": {},
   "outputs": [
    {
     "name": "stdout",
     "output_type": "stream",
     "text": [
      "<class 'dict'>\n"
     ]
    }
   ],
   "source": [
    "shapes = {1:'Trianle', 2:\"Rectangle\", 3:\"Square\", 4:\"Sphere\"}\n",
    "print(type(shapes))"
   ]
  },
  {
   "cell_type": "code",
   "execution_count": 52,
   "id": "13050578",
   "metadata": {},
   "outputs": [
    {
     "name": "stdout",
     "output_type": "stream",
     "text": [
      "{1: 'Trianle', 2: 'Rectangle', 3: 'Square', 4: 'Sphere'}\n"
     ]
    }
   ],
   "source": [
    "print(shapes)"
   ]
  },
  {
   "cell_type": "markdown",
   "id": "60a27a6e",
   "metadata": {},
   "source": [
    "### Accessing the dictionary values"
   ]
  },
  {
   "cell_type": "code",
   "execution_count": 53,
   "id": "f54c1189",
   "metadata": {},
   "outputs": [
    {
     "data": {
      "text/plain": [
       "'Square'"
      ]
     },
     "execution_count": 53,
     "metadata": {},
     "output_type": "execute_result"
    }
   ],
   "source": [
    "shapes[3]"
   ]
  },
  {
   "cell_type": "code",
   "execution_count": 54,
   "id": "affd0187",
   "metadata": {},
   "outputs": [
    {
     "ename": "KeyError",
     "evalue": "'Square'",
     "output_type": "error",
     "traceback": [
      "\u001b[1;31m---------------------------------------------------------------------------\u001b[0m",
      "\u001b[1;31mKeyError\u001b[0m                                  Traceback (most recent call last)",
      "\u001b[1;32m~\\AppData\\Local\\Temp\\ipykernel_14044\\3529283171.py\u001b[0m in \u001b[0;36m<module>\u001b[1;34m\u001b[0m\n\u001b[1;32m----> 1\u001b[1;33m \u001b[0mshapes\u001b[0m\u001b[1;33m[\u001b[0m\u001b[1;34m'Square'\u001b[0m\u001b[1;33m]\u001b[0m\u001b[1;33m\u001b[0m\u001b[1;33m\u001b[0m\u001b[0m\n\u001b[0m",
      "\u001b[1;31mKeyError\u001b[0m: 'Square'"
     ]
    }
   ],
   "source": [
    "shapes['Square']"
   ]
  },
  {
   "cell_type": "markdown",
   "id": "155e4b9b",
   "metadata": {},
   "source": [
    "#### Updating dictionary items"
   ]
  },
  {
   "cell_type": "code",
   "execution_count": 55,
   "id": "5232d8c5",
   "metadata": {},
   "outputs": [
    {
     "name": "stdout",
     "output_type": "stream",
     "text": [
      "{1: 'Trianle', 2: 'Rectangle', 3: 'Square', 4: 'Sphere', 5: 'Cube'}\n"
     ]
    }
   ],
   "source": [
    "shapes[5] = 'Cube'\n",
    "print(shapes)"
   ]
  },
  {
   "cell_type": "code",
   "execution_count": 56,
   "id": "2e105a01",
   "metadata": {},
   "outputs": [
    {
     "name": "stdout",
     "output_type": "stream",
     "text": [
      "{1: 'Trianle', 2: 'Hexagon', 3: 'Square', 4: 'Sphere', 5: 'Cube'}\n"
     ]
    }
   ],
   "source": [
    "shapes[2] = 'Hexagon'\n",
    "print(shapes)"
   ]
  },
  {
   "cell_type": "markdown",
   "id": "2344b1e1",
   "metadata": {},
   "source": [
    "#### Deleting dictionary items"
   ]
  },
  {
   "cell_type": "code",
   "execution_count": 57,
   "id": "bac67abf",
   "metadata": {},
   "outputs": [
    {
     "name": "stdout",
     "output_type": "stream",
     "text": [
      "{1: 'Trianle', 3: 'Square', 4: 'Sphere', 5: 'Cube'}\n"
     ]
    }
   ],
   "source": [
    "del shapes[2]\n",
    "print(shapes)"
   ]
  },
  {
   "cell_type": "code",
   "execution_count": 58,
   "id": "a73c0353",
   "metadata": {},
   "outputs": [
    {
     "name": "stdout",
     "output_type": "stream",
     "text": [
      "{}\n"
     ]
    }
   ],
   "source": [
    "shapes.clear()\n",
    "print(shapes)"
   ]
  },
  {
   "cell_type": "code",
   "execution_count": 59,
   "id": "342fd6bf",
   "metadata": {},
   "outputs": [
    {
     "ename": "NameError",
     "evalue": "name 'shapes' is not defined",
     "output_type": "error",
     "traceback": [
      "\u001b[1;31m---------------------------------------------------------------------------\u001b[0m",
      "\u001b[1;31mNameError\u001b[0m                                 Traceback (most recent call last)",
      "\u001b[1;32m~\\AppData\\Local\\Temp\\ipykernel_14044\\3823410825.py\u001b[0m in \u001b[0;36m<module>\u001b[1;34m\u001b[0m\n\u001b[0;32m      1\u001b[0m \u001b[1;32mdel\u001b[0m \u001b[0mshapes\u001b[0m\u001b[1;33m\u001b[0m\u001b[1;33m\u001b[0m\u001b[0m\n\u001b[1;32m----> 2\u001b[1;33m \u001b[0mprint\u001b[0m\u001b[1;33m(\u001b[0m\u001b[0mshapes\u001b[0m\u001b[1;33m)\u001b[0m\u001b[1;33m\u001b[0m\u001b[1;33m\u001b[0m\u001b[0m\n\u001b[0m",
      "\u001b[1;31mNameError\u001b[0m: name 'shapes' is not defined"
     ]
    }
   ],
   "source": [
    "del shapes\n",
    "print(shapes)"
   ]
  },
  {
   "cell_type": "markdown",
   "id": "7db1dabf",
   "metadata": {},
   "source": [
    "## Arrays "
   ]
  },
  {
   "cell_type": "markdown",
   "id": "f8976ff5",
   "metadata": {},
   "source": [
    "### Creating an array"
   ]
  },
  {
   "cell_type": "code",
   "execution_count": 30,
   "id": "e77e53e1",
   "metadata": {},
   "outputs": [],
   "source": [
    "import numpy as np"
   ]
  },
  {
   "cell_type": "code",
   "execution_count": 31,
   "id": "4161da0b",
   "metadata": {},
   "outputs": [
    {
     "name": "stdout",
     "output_type": "stream",
     "text": [
      "<class 'numpy.ndarray'>\n"
     ]
    }
   ],
   "source": [
    "fibo_series = np.array([1,1,2,3,5,8,13])\n",
    "print(type(fibo_series))"
   ]
  },
  {
   "cell_type": "code",
   "execution_count": 35,
   "id": "9ef27102",
   "metadata": {
    "scrolled": true
   },
   "outputs": [
    {
     "name": "stdout",
     "output_type": "stream",
     "text": [
      "[ 1  1  2  3  5  8 13]\n"
     ]
    }
   ],
   "source": [
    "print(fibo_series)"
   ]
  },
  {
   "cell_type": "markdown",
   "id": "f14c44cf",
   "metadata": {},
   "source": [
    "### Accessing array elements"
   ]
  },
  {
   "cell_type": "code",
   "execution_count": 33,
   "id": "1f624d4b",
   "metadata": {
    "scrolled": true
   },
   "outputs": [
    {
     "name": "stdout",
     "output_type": "stream",
     "text": [
      "1\n",
      "1\n",
      "2\n",
      "3\n",
      "5\n",
      "8\n",
      "13\n"
     ]
    }
   ],
   "source": [
    "for n in fibo_series:\n",
    "    print(n)"
   ]
  },
  {
   "cell_type": "code",
   "execution_count": 34,
   "id": "34b7dfc3",
   "metadata": {},
   "outputs": [
    {
     "data": {
      "text/plain": [
       "8"
      ]
     },
     "execution_count": 34,
     "metadata": {},
     "output_type": "execute_result"
    }
   ],
   "source": [
    "fibo_series[5]"
   ]
  },
  {
   "cell_type": "code",
   "execution_count": 37,
   "id": "4c727fac",
   "metadata": {},
   "outputs": [
    {
     "data": {
      "text/plain": [
       "array([1, 1, 2, 3, 5])"
      ]
     },
     "execution_count": 37,
     "metadata": {},
     "output_type": "execute_result"
    }
   ],
   "source": [
    "fibo_series[:5]"
   ]
  },
  {
   "cell_type": "code",
   "execution_count": 39,
   "id": "5d6b0a43",
   "metadata": {},
   "outputs": [
    {
     "data": {
      "text/plain": [
       "array([ 3,  5,  8, 13])"
      ]
     },
     "execution_count": 39,
     "metadata": {},
     "output_type": "execute_result"
    }
   ],
   "source": [
    "fibo_series[3:8]"
   ]
  },
  {
   "cell_type": "markdown",
   "id": "21bf983d",
   "metadata": {},
   "source": [
    "## 2.3 Constants"
   ]
  },
  {
   "cell_type": "code",
   "execution_count": 62,
   "id": "9c4ddabd",
   "metadata": {},
   "outputs": [],
   "source": [
    "import math as mt"
   ]
  },
  {
   "cell_type": "markdown",
   "id": "c6dc10e4",
   "metadata": {},
   "source": [
    "### Euler's Constant"
   ]
  },
  {
   "cell_type": "code",
   "execution_count": 63,
   "id": "8db107a8",
   "metadata": {},
   "outputs": [
    {
     "data": {
      "text/plain": [
       "2.718281828459045"
      ]
     },
     "execution_count": 63,
     "metadata": {},
     "output_type": "execute_result"
    }
   ],
   "source": [
    "mt.e"
   ]
  },
  {
   "cell_type": "markdown",
   "id": "fcf15303",
   "metadata": {},
   "source": [
    "### Pi Constant"
   ]
  },
  {
   "cell_type": "code",
   "execution_count": 64,
   "id": "26e05277",
   "metadata": {},
   "outputs": [
    {
     "data": {
      "text/plain": [
       "3.141592653589793"
      ]
     },
     "execution_count": 64,
     "metadata": {},
     "output_type": "execute_result"
    }
   ],
   "source": [
    "mt.pi"
   ]
  },
  {
   "cell_type": "markdown",
   "id": "e29ca14f",
   "metadata": {},
   "source": [
    "### Tau Constant"
   ]
  },
  {
   "cell_type": "code",
   "execution_count": 65,
   "id": "6e1aabdd",
   "metadata": {},
   "outputs": [
    {
     "data": {
      "text/plain": [
       "6.283185307179586"
      ]
     },
     "execution_count": 65,
     "metadata": {},
     "output_type": "execute_result"
    }
   ],
   "source": [
    "mt.tau"
   ]
  }
 ],
 "metadata": {
  "kernelspec": {
   "display_name": "Python 3 (ipykernel)",
   "language": "python",
   "name": "python3"
  },
  "language_info": {
   "codemirror_mode": {
    "name": "ipython",
    "version": 3
   },
   "file_extension": ".py",
   "mimetype": "text/x-python",
   "name": "python",
   "nbconvert_exporter": "python",
   "pygments_lexer": "ipython3",
   "version": "3.7.13"
  }
 },
 "nbformat": 4,
 "nbformat_minor": 5
}
