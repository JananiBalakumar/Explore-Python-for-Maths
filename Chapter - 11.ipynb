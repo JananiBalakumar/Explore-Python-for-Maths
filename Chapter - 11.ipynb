{
 "cells": [
  {
   "cell_type": "markdown",
   "id": "cf0b9f52",
   "metadata": {},
   "source": [
    "# Initial Value Problems for Ordinary Differential Equations"
   ]
  },
  {
   "cell_type": "markdown",
   "id": "5ead9642",
   "metadata": {},
   "source": [
    "### 11.2 Taylor Series Method"
   ]
  },
  {
   "cell_type": "code",
   "execution_count": 1,
   "id": "cd1ef1a1",
   "metadata": {},
   "outputs": [
    {
     "name": "stdout",
     "output_type": "stream",
     "text": [
      "Approximation of y(0.1) using Taylor series: 0.900308385323277\n"
     ]
    }
   ],
   "source": [
    "import sympy as sp\n",
    "\n",
    "# Define the symbolic variables\n",
    "x = sp.Symbol('x')\n",
    "y = sp.Function('y')\n",
    "\n",
    "# Given differential equation\n",
    "diff_eq = sp.Eq(y(x).diff(x), x**2 * y(x) - 1)\n",
    "\n",
    "# Initial condition\n",
    "initial_condition = {y(0): 1}\n",
    "\n",
    "# Solve the differential equation with the initial condition\n",
    "solution = sp.dsolve(diff_eq, ics=initial_condition)\n",
    "\n",
    "# Define the value of x where we want to approximate y\n",
    "x_val_0_1 = 0.1\n",
    "\n",
    "# Define a function to compute the Taylor series approximation\n",
    "def taylor_series_approximation(x_val, order):\n",
    "    taylor_series = solution.rhs\n",
    "    for i in range(1, order):\n",
    "        derivative = sp.diff(taylor_series, x)\n",
    "        taylor_series += (derivative / sp.factorial(i)) * (x - 0)**i\n",
    "    return taylor_series.subs(x, x_val).evalf()\n",
    "\n",
    "# Approximate y(0.1) using the Taylor series with higher order\n",
    "order = 1 \n",
    "res = taylor_series_approximation(x_val_0_1, order)\n",
    "# Print the result\n",
    "print(\"Approximation of y(0.1) using Taylor series:\", res)"
   ]
  },
  {
   "cell_type": "markdown",
   "id": "f0a867ea",
   "metadata": {},
   "source": [
    "### 11.3 Eulers Method"
   ]
  },
  {
   "cell_type": "code",
   "execution_count": 2,
   "id": "33e684e7",
   "metadata": {},
   "outputs": [
    {
     "name": "stdout",
     "output_type": "stream",
     "text": [
      "x = 0.00, y = 1.000000\n",
      "x = 0.01, y = 0.990000\n",
      "x = 0.02, y = 0.980100\n",
      "x = 0.03, y = 0.970299\n",
      "x = 0.04, y = 0.960596\n"
     ]
    }
   ],
   "source": [
    "#function definition\n",
    "def f(x, y):\n",
    "    return -y\n",
    "def euler_method(f, x0, y0, h, n):\n",
    "    x_values = [x0 + i * h for i in range(n + 1)]\n",
    "    y_values = [y0]\n",
    "\n",
    "    for i in range(n):\n",
    "        x = x_values[i]\n",
    "        y = y_values[i]\n",
    "\n",
    "        y_next = y + h * f(x, y)\n",
    "        y_values.append(y_next)\n",
    "\n",
    "    return x_values, y_values\n",
    "\n",
    "x0 = 0\n",
    "y0 = 1\n",
    "h = 0.01  # Step size\n",
    "n = 4     # Number of steps\n",
    "\n",
    "x_values, y_values = euler_method(f, x0, y0, h, n)\n",
    "\n",
    "for i in range(n + 1):\n",
    "    print(f\"x = {x_values[i]:.2f}, y = {y_values[i]:.6f}\")"
   ]
  },
  {
   "cell_type": "markdown",
   "id": "91658663",
   "metadata": {},
   "source": [
    "### 11.4 Modified Eulers Method"
   ]
  },
  {
   "cell_type": "code",
   "execution_count": 3,
   "id": "4523d430",
   "metadata": {},
   "outputs": [
    {
     "name": "stdout",
     "output_type": "stream",
     "text": [
      "Approximate value of y at x = 0.25: 1.062500\n"
     ]
    }
   ],
   "source": [
    "#function definition\n",
    "def f(x, y):\n",
    "    return 2 * x * y\n",
    "\n",
    "def modified_euler_method(f, x0, y0, h, n):\n",
    "    x_values = [x0 + i * h for i in range(n + 1)]\n",
    "    y_values = [y0]\n",
    "\n",
    "    for i in range(n):\n",
    "        x = x_values[i]\n",
    "        y = y_values[i]\n",
    "\n",
    "        # Euler's method prediction\n",
    "        y_predict = y + h * f(x, y)\n",
    "        \n",
    "        # Calculate derivatives at current and predicted points\n",
    "        f_current = f(x, y)\n",
    "        f_predict = f(x + h, y_predict)\n",
    "        \n",
    "        # Average the derivatives\n",
    "        avg_derivative = 0.5 * (f_current + f_predict)\n",
    "        \n",
    "        # Update y using the averaged derivative\n",
    "        y_next = y + h * avg_derivative\n",
    "        y_values.append(y_next)\n",
    "\n",
    "    return x_values, y_values\n",
    "\n",
    "x0 = 0\n",
    "y0 = 1\n",
    "h = 0.25  # Step size\n",
    "n = 1  # Number of steps to reach x = 0.25\n",
    "\n",
    "x_values, y_values = modified_euler_method(f, x0, y0, h, n)\n",
    "\n",
    "print(f\"Approximate value of y at x = 0.25: {y_values[-1]:.6f}\")"
   ]
  },
  {
   "cell_type": "markdown",
   "id": "36e528c1",
   "metadata": {},
   "source": [
    "### 11.5 4th order Runge-Kutta method for solving first order equations"
   ]
  },
  {
   "cell_type": "code",
   "execution_count": 2,
   "id": "95cdc4df",
   "metadata": {},
   "outputs": [
    {
     "name": "stdout",
     "output_type": "stream",
     "text": [
      "x = 0.0, y = 1.000000\n",
      "x = 0.1, y = 0.904837\n",
      "x = 0.2, y = 0.818731\n"
     ]
    }
   ],
   "source": [
    "    #Function Definition\n",
    "    def f(x, y):\n",
    "        return -y\n",
    "    def runge_kutta_4(f, x0, y0, h, n):\n",
    "        x_values = [x0 + i * h for i in range(n + 1)]\n",
    "        y_values = [y0]\n",
    "\n",
    "        for i in range(n):\n",
    "            x = x_values[i]\n",
    "            y = y_values[i]\n",
    "\n",
    "            k1 = h * f(x, y)\n",
    "            k2 = h * f(x + 0.5 * h, y + 0.5 * k1)\n",
    "            k3 = h * f(x + 0.5 * h, y + 0.5 * k2)\n",
    "            k4 = h * f(x + h, y + k3)\n",
    "\n",
    "            y_next = y + (k1 + 2 * k2 + 2 * k3 + k4) / 6\n",
    "            y_values.append(y_next)\n",
    "\n",
    "        return x_values, y_values\n",
    "    x0 = 0\n",
    "    y0 = 1\n",
    "    h = 0.1  # Step size\n",
    "    n = 2   # Number of steps to reach x = 0.2\n",
    "\n",
    "    x_values, y_values = runge_kutta_4(f, x0, y0, h, n)\n",
    "    for i in range(n + 1):\n",
    "        print(f\"x = {x_values[i]:.1f}, y = {y_values[i]:.6f}\")"
   ]
  },
  {
   "cell_type": "markdown",
   "id": "28f602c7",
   "metadata": {},
   "source": [
    "### 11.6 4th order Runge-Kutta method for solving simultaneous first order equations"
   ]
  },
  {
   "cell_type": "code",
   "execution_count": 3,
   "id": "f00f2b6e",
   "metadata": {},
   "outputs": [
    {
     "name": "stdout",
     "output_type": "stream",
     "text": [
      "x = 0.0, y = 2.000000, z = 1.000000\n",
      "x = 0.1, y = 2.084543, z = 0.586789\n"
     ]
    }
   ],
   "source": [
    "#Function Definition\n",
    "def f_y(x, y, z):\n",
    "    return x + z\n",
    "def f_z(x, y, z):\n",
    "    return x - y**2\n",
    "def rk_4_system(f_y, f_z, x0, y0, z0, h, n):\n",
    "    x_val = [x0 + i * h for i in range(n + 1)]\n",
    "    y_val = [y0]\n",
    "    z_val = [z0]\n",
    "\n",
    "    for i in range(n):\n",
    "        x = x_val[i]\n",
    "        y = y_val[i]\n",
    "        z = z_val[i]\n",
    "\n",
    "        k1y = h * f_y(x, y, z)\n",
    "        k1z = h * f_z(x, y, z)\n",
    "\n",
    "        k2y = h * f_y(x + 0.5 * h, y + 0.5 * k1y, z + 0.5 * k1z)\n",
    "        k2z = h * f_z(x + 0.5 * h, y + 0.5 * k1y, z + 0.5 * k1z)\n",
    "\n",
    "        k3y = h * f_y(x + 0.5 * h, y + 0.5 * k2y, z + 0.5 * k2z)\n",
    "        k3z = h * f_z(x + 0.5 * h, y + 0.5 * k2y, z + 0.5 * k2z)\n",
    "\n",
    "        k4y = h * f_y(x + h, y + k3y, z + k3z)\n",
    "        k4z = h * f_z(x + h, y + k3y, z + k3z)\n",
    "\n",
    "        y_next = y + (k1y + 2 * k2y + 2 * k3y + k4y) / 6\n",
    "        z_next = z + (k1z + 2 * k2z + 2 * k3z + k4z) / 6\n",
    "        \n",
    "        y_val.append(y_next)\n",
    "        z_val.append(z_next)\n",
    "    return x_val, y_val, z_val\n",
    "x0 = 0\n",
    "y0 = 2\n",
    "z0 = 1\n",
    "h = 0.1  # Step size\n",
    "n = 1   # Number of steps to reach the desired x\n",
    "x_val, y_val, z_val = rk_4_system(f_y, f_z, x0, y0, z0, h, n)\n",
    "for i in range(n + 1):\n",
    "    print(f\"x = {x_val[i]:.1f}, y = {y_val[i]:.6f}, z = {z_val[i]:.6f}\")"
   ]
  },
  {
   "cell_type": "markdown",
   "id": "1e267232",
   "metadata": {},
   "source": [
    "### 11.7  4th order Runge-Kutta method for solving second order equations"
   ]
  },
  {
   "cell_type": "code",
   "execution_count": 4,
   "id": "c9d05e45",
   "metadata": {},
   "outputs": [
    {
     "name": "stdout",
     "output_type": "stream",
     "text": [
      "x = 0.0, y = 1.000000\n",
      "x = 0.1, y = 0.995012\n"
     ]
    }
   ],
   "source": [
    "#Function Definition\n",
    "def f(x, y, z):\n",
    "    return z\n",
    "\n",
    "def g(x, y, z):\n",
    "    return -x * z - y\n",
    "\n",
    "def rk_4_system(f, g, x0, y0, z0, h, n):\n",
    "    x_values = [x0 + i * h for i in range(n + 1)]\n",
    "    y_values = [y0]\n",
    "    z_values = [z0]\n",
    "\n",
    "    for i in range(n):\n",
    "        x = x_values[i]\n",
    "        y = y_values[i]\n",
    "        z = z_values[i]\n",
    "\n",
    "        k1y = h * f(x, y, z)\n",
    "        k1z = h * g(x, y, z)\n",
    "\n",
    "        k2y = h * f(x + 0.5 * h, y + 0.5 * k1y, z + 0.5 * k1z)\n",
    "        k2z = h * g(x + 0.5 * h, y + 0.5 * k1y, z + 0.5 * k1z)\n",
    "\n",
    "        k3y = h * f(x + 0.5 * h, y + 0.5 * k2y, z + 0.5 * k2z)\n",
    "        k3z = h * g(x + 0.5 * h, y + 0.5 * k2y, z + 0.5 * k2z)\n",
    "\n",
    "        k4y = h * f(x + h, y + k3y, z + k3z)\n",
    "        k4z = h * g(x + h, y + k3y, z + k3z)\n",
    "\n",
    "        y_next = y + (k1y + 2 * k2y + 2 * k3y + k4y) / 6\n",
    "        z_next = z + (k1z + 2 * k2z + 2 * k3z + k4z) / 6\n",
    "        \n",
    "        y_values.append(y_next)\n",
    "        z_values.append(z_next)\n",
    "\n",
    "    return x_values, y_values, z_values\n",
    "\n",
    "x0 = 0\n",
    "y0 = 1  # Initial value of y(x)\n",
    "z0 = 0  # Initial value of y'(x)\n",
    "h = 0.1  # Step size\n",
    "n = 1   # Number of steps to reach the desired x\n",
    "\n",
    "x_values, y_values, z_values = rk_4_system(f, g, x0, y0, z0, h, n)\n",
    "\n",
    "for i in range(n + 1):\n",
    "    print(f\"x = {x_values[i]:.1f}, y = {y_values[i]:.6f}\")"
   ]
  },
  {
   "cell_type": "markdown",
   "id": "418d18e7",
   "metadata": {},
   "source": [
    "### 11.8 Milne's Predictor and Corrector Methods"
   ]
  },
  {
   "cell_type": "code",
   "execution_count": 5,
   "id": "a9e09a3b",
   "metadata": {},
   "outputs": [
    {
     "name": "stdout",
     "output_type": "stream",
     "text": [
      "Predictor result: 2.0767273333333334\n",
      "Corrector result: 2.0335117122222224\n",
      "Corrected value of y at x=0.2 is: 2.03351\n"
     ]
    }
   ],
   "source": [
    "#Function Definition\n",
    "def f(x, y):\n",
    "    return (0.2 * x) + (0.1 * y)\n",
    "\n",
    "def milnes_method(x_values, y_values, x_target, h):\n",
    "    n = len(x_values) - 1\n",
    "    while x_values[n] < x_target:\n",
    "        # Predictor Step using Milne's predictor formula\n",
    "        y_pred = y_values[n-4] + (4 * h / 3) * (\n",
    "            2 * f(x_values[n], y_values[n]) -\n",
    "            f(x_values[n-1], y_values[n-1]) +\n",
    "            2 * f(x_values[n-2], y_values[n-2])\n",
    "        )\n",
    "\n",
    "        # Corrector Step using Milne's corrector formula\n",
    "        y_corr = y_values[n-2] + (h / 3) * (\n",
    "            f(x_values[n], y_pred) +\n",
    "            4 * f(x_values[n], y_values[n]) +\n",
    "            f(x_values[n-1], y_values[n-1])\n",
    "        )\n",
    "\n",
    "        y_values.append(y_pred)\n",
    "        y_values.append(y_corr)\n",
    "        x_values.append(x_values[n] + h)\n",
    "        x_values.append(x_values[n] + 2*h)\n",
    "        n += 2\n",
    "    \n",
    "    return y_values\n",
    "\n",
    "x0 = 0\n",
    "y0 = 2\n",
    "x_target = 0.2\n",
    "h = 0.05\n",
    "\n",
    "x_values = [x0, 0.05, 0.1, 0.15]\n",
    "y_values = [y0, 2.0103, 2.0211, 2.0323]\n",
    "\n",
    "y_pred_corr = milnes_method(x_values, y_values.copy(), x_target, h)\n",
    "print(\"Predictor result:\", y_pred_corr[-2])\n",
    "print(\"Corrector result:\", y_pred_corr[-1])\n",
    "print(\"Corrected value of y at x=0.2 is:\", round(y_pred_corr[-1],5))"
   ]
  },
  {
   "cell_type": "markdown",
   "id": "85618aae",
   "metadata": {},
   "source": [
    "### 11.9 Adam's Predictor and Corrector Method"
   ]
  },
  {
   "cell_type": "code",
   "execution_count": 7,
   "id": "93ee1186",
   "metadata": {},
   "outputs": [
    {
     "name": "stdout",
     "output_type": "stream",
     "text": [
      "Predictor at x=0.4: 1.0408268749999998\n",
      "Corrector at x=0.4: 1.0412523225339458\n",
      "Final approximate y(0.4): 1.0412523225339458\n"
     ]
    }
   ],
   "source": [
    "#Importing\n",
    "import numpy as np\n",
    "\n",
    "# Given differential equation dy/dx = 1/2 * x * y\n",
    "def dydx(x, y):\n",
    "    return 0.5 * x * y\n",
    "\n",
    "# Adams Predictor-Corrector method for ODE approximation\n",
    "def adams_method(x_val, y_val, target_x, h):\n",
    "    while x_val[-1] < target_x:\n",
    "        n = len(x_val)\n",
    "        \n",
    "        # Adams predictor formula\n",
    "        predictor = y_val[n-1] + h / 24 * (55 * dydx(x_val[n-1], y_val[n-1]) \n",
    "                                              - 59 * dydx(x_val[n-2], y_val[n-2]) \n",
    "                                              + 37 * dydx(x_val[n-3], y_val[n-3]) \n",
    "                                              - 9 * dydx(x_val[n-4], y_val[n-4]))\n",
    "        \n",
    "        x_val.append(x_val[n-1] + h)\n",
    "        \n",
    "        # Adams corrector formula\n",
    "        corrector = y_val[n-1] + h / 24 * (9 * dydx(x_val[n], predictor) \n",
    "                                              + 19 * dydx(x_val[n-1], y_val[n-1]) \n",
    "                                              - 5 * dydx(x_val[n-2], y_val[n-2]) \n",
    "                                              + dydx(x_val[n-3], y_val[n-3]))\n",
    "        \n",
    "        # Apply corrector formula iteratively for better accuracy\n",
    "        for _ in range(3):\n",
    "            corrector = y_val[n-1] + h / 24 * (9 * dydx(x_val[n], predictor) \n",
    "                                                  + 19 * dydx(x_val[n-1], corrector) \n",
    "                                                  - 5 * dydx(x_val[n-2], y_val[n-2]) \n",
    "                                                  + dydx(x_val[n-3], y_val[n-3]))\n",
    "        \n",
    "        y_val.append(corrector)\n",
    "        \n",
    "        print(f\"Predictor at x={x_val[-1]}: {predictor}\")\n",
    "        print(f\"Corrector at x={x_val[-1]}: {corrector}\")\n",
    "        \n",
    "        \n",
    "    return y_val[-1]\n",
    "\n",
    "# Initial conditions and given data\n",
    "x_val = [0, 0.1, 0.2, 0.3]\n",
    "y_val = [1, 1.01, 1.022, 1.023]\n",
    "target_x = 0.4\n",
    "step_size = x_val[1] - x_val[0]\n",
    "\n",
    "# Approximate y at target_x using Adams Predictor-Corrector method\n",
    "approx_y = adams_method(x_val.copy(), y_val.copy(), target_x, step_size)\n",
    "\n",
    "print(f\"Final approximate y({target_x}): {approx_y}\")"
   ]
  },
  {
   "cell_type": "code",
   "execution_count": null,
   "id": "d571241b",
   "metadata": {},
   "outputs": [],
   "source": []
  }
 ],
 "metadata": {
  "kernelspec": {
   "display_name": "Python [conda env:my-rdkit-env] *",
   "language": "python",
   "name": "conda-env-my-rdkit-env-py"
  },
  "language_info": {
   "codemirror_mode": {
    "name": "ipython",
    "version": 3
   },
   "file_extension": ".py",
   "mimetype": "text/x-python",
   "name": "python",
   "nbconvert_exporter": "python",
   "pygments_lexer": "ipython3",
   "version": "3.7.13"
  }
 },
 "nbformat": 4,
 "nbformat_minor": 5
}
