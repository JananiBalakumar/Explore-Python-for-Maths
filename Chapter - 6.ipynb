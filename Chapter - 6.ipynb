{
 "cells": [
  {
   "cell_type": "markdown",
   "id": "4456a913",
   "metadata": {},
   "source": [
    "# Vectors"
   ]
  },
  {
   "cell_type": "markdown",
   "id": "8a515d1e",
   "metadata": {},
   "source": [
    "### 6.2 Vector Creation"
   ]
  },
  {
   "cell_type": "code",
   "execution_count": 1,
   "id": "940091d5",
   "metadata": {},
   "outputs": [
    {
     "name": "stdout",
     "output_type": "stream",
     "text": [
      "Vector creation\n",
      "[10 20 30 40 50]\n"
     ]
    }
   ],
   "source": [
    "import numpy as np \n",
    "\n",
    "# creating list  \n",
    "lst = [10,20,30,40,50] \n",
    "\n",
    "# Creating 1-D Horizontal Array  \n",
    "vctr = np.array(lst) \n",
    "\n",
    "print(\"Vector creation\") \n",
    "print(vctr) "
   ]
  },
  {
   "cell_type": "code",
   "execution_count": 2,
   "id": "28b1afdf",
   "metadata": {},
   "outputs": [
    {
     "name": "stdout",
     "output_type": "stream",
     "text": [
      "Vector creation\n",
      "[[10]\n",
      " [20]\n",
      " [30]\n",
      " [40]\n",
      " [50]]\n"
     ]
    }
   ],
   "source": [
    "# creating list\n",
    "lst = [[10],[20], [30],[40],[50]]\n",
    "\n",
    "# Creating 1-D vertical Array  \n",
    "vctr = np.array(lst) \n",
    "\n",
    "print(\"Vector creation\") \n",
    "print(vctr) "
   ]
  },
  {
   "cell_type": "markdown",
   "id": "b27a4892",
   "metadata": {},
   "source": [
    "### 6.3 Vector Operations"
   ]
  },
  {
   "cell_type": "markdown",
   "id": "5d95cd2c",
   "metadata": {},
   "source": [
    "#### 6.3.1 Addition"
   ]
  },
  {
   "cell_type": "code",
   "execution_count": 3,
   "id": "b92ff47e",
   "metadata": {},
   "outputs": [
    {
     "name": "stdout",
     "output_type": "stream",
     "text": [
      "Vector 1:\n",
      "[10 20 30 40 50]\n",
      "Vector 2:\n",
      "[ 5 15 25 35 45]\n",
      "Addition of two vectors:\n",
      " [15 35 55 75 95]\n"
     ]
    }
   ],
   "source": [
    "import numpy as np   \n",
    "#Creating a list   \n",
    "list1 = [10,20,30,40,50]   \n",
    "list2 = [5,15,25,35,45]  \n",
    "   \n",
    "#Creating a vectors\n",
    "v1 = np.array(list1)   \n",
    "v2= np.array(list2)   \n",
    "print(\"Vector 1:\")   \n",
    "print(v1)   \n",
    "print(\"Vector 2:\")   \n",
    "print(v2)   \n",
    " \n",
    "#addition\n",
    "vadd = v1+v2  \n",
    "print(\"Addition of two vectors:\\n\",vadd)  "
   ]
  },
  {
   "cell_type": "code",
   "execution_count": 4,
   "id": "10c76757",
   "metadata": {},
   "outputs": [
    {
     "name": "stdout",
     "output_type": "stream",
     "text": [
      "Vector 1:\n",
      "[ 5.  10.2 20.2 30.2 40.2 50.2 -9. ]\n",
      "Vector 2:\n",
      "[-9.   5.3 15.3 25.3 35.3 45.3  3. ]\n",
      "Addition of two vectors:\n",
      " [-4.  15.5 35.5 55.5 75.5 95.5 -6. ]\n"
     ]
    }
   ],
   "source": [
    "import numpy as np   \n",
    "#Creating a list   \n",
    "list1 = [5,10.2,20.2,30.2,40.2,50.2, -9]   \n",
    "list2 = [-9, 5.3,15.3,25.3,35.3,45.3, 3]  \n",
    "\n",
    "#Creating a vectors\n",
    "v1 = np.array(list1)   \n",
    "v2 = np.array(list2)   \n",
    "print(\"Vector 1:\")   \n",
    "print(v1)   \n",
    "print(\"Vector 2:\")   \n",
    "print(v2)   \n",
    " \n",
    "#addition\n",
    "vadd = v1+v2  \n",
    "print(\"Addition of two vectors:\\n\",vadd)  "
   ]
  },
  {
   "cell_type": "code",
   "execution_count": 14,
   "id": "7c8fc659",
   "metadata": {},
   "outputs": [
    {
     "name": "stdout",
     "output_type": "stream",
     "text": [
      "Vector 1:\n",
      "[10 20 30 40 50]\n",
      "Vector 2:\n",
      "[ 5 15 25 35]\n"
     ]
    },
    {
     "ename": "ValueError",
     "evalue": "operands could not be broadcast together with shapes (5,) (4,) ",
     "output_type": "error",
     "traceback": [
      "\u001b[1;31m---------------------------------------------------------------------------\u001b[0m",
      "\u001b[1;31mValueError\u001b[0m                                Traceback (most recent call last)",
      "\u001b[1;32m~\\AppData\\Local\\Temp\\ipykernel_13440\\2672437776.py\u001b[0m in \u001b[0;36m<module>\u001b[1;34m\u001b[0m\n\u001b[0;32m     13\u001b[0m \u001b[1;33m\u001b[0m\u001b[0m\n\u001b[0;32m     14\u001b[0m \u001b[1;31m#addition\u001b[0m\u001b[1;33m\u001b[0m\u001b[1;33m\u001b[0m\u001b[1;33m\u001b[0m\u001b[0m\n\u001b[1;32m---> 15\u001b[1;33m \u001b[0mvadd\u001b[0m \u001b[1;33m=\u001b[0m \u001b[0mv1\u001b[0m\u001b[1;33m+\u001b[0m\u001b[0mv2\u001b[0m\u001b[1;33m\u001b[0m\u001b[1;33m\u001b[0m\u001b[0m\n\u001b[0m\u001b[0;32m     16\u001b[0m \u001b[0mprint\u001b[0m\u001b[1;33m(\u001b[0m\u001b[1;34m\"Addition of two vectors:\\n\"\u001b[0m\u001b[1;33m,\u001b[0m\u001b[0mvadd\u001b[0m\u001b[1;33m)\u001b[0m\u001b[1;33m\u001b[0m\u001b[1;33m\u001b[0m\u001b[0m\n",
      "\u001b[1;31mValueError\u001b[0m: operands could not be broadcast together with shapes (5,) (4,) "
     ]
    }
   ],
   "source": [
    "import numpy as np   \n",
    "#Creating a list   \n",
    "list1 = [10,20,30,40,50]   \n",
    "list2 = [5,15,25,35]  \n",
    "   \n",
    "#Creating a vectors\n",
    "v1 = np.array(list1)   \n",
    "v2 = np.array(list2)   \n",
    "print(\"Vector 1:\")   \n",
    "print(v1)   \n",
    "print(\"Vector 2:\")   \n",
    "print(v2)   \n",
    " \n",
    "#addition\n",
    "vadd = v1+v2  \n",
    "print(\"Addition of two vectors:\\n\",vadd) "
   ]
  },
  {
   "cell_type": "markdown",
   "id": "2fe2acbc",
   "metadata": {},
   "source": [
    "#### 6.3.2 Subtraction"
   ]
  },
  {
   "cell_type": "code",
   "execution_count": 27,
   "id": "5ee5184e",
   "metadata": {},
   "outputs": [
    {
     "name": "stdout",
     "output_type": "stream",
     "text": [
      "Vector 1:\n",
      "[ 10.   20.   30.   40.   50.    2.5 -10. ]\n",
      "Vector 2:\n",
      "[  5  15  25  35  45 -10 -15]\n",
      "Subtraction of two vectors:\n",
      " [ 5.   5.   5.   5.   5.  12.5  5. ]\n"
     ]
    }
   ],
   "source": [
    "import numpy as np   \n",
    "#Creating a list   \n",
    "list1 = [10,20,30,40,50,2.5,-10]   \n",
    "list2 = [5,15,25,35,45,-10,-15]  \n",
    "   \n",
    "#Creating a vectors\n",
    "v1 = np.array(list1)   \n",
    "v2= np.array(list2)   \n",
    "print(\"Vector 1:\")   \n",
    "print(v1)   \n",
    "print(\"Vector 2:\")   \n",
    "print(v2)   \n",
    " \n",
    "#Subtraction\n",
    "vsub = v1-v2  \n",
    "print(\"Subtraction of two vectors:\\n\",vsub)  "
   ]
  },
  {
   "cell_type": "markdown",
   "id": "9f6b14ae",
   "metadata": {},
   "source": [
    "#### 6.3.3 Dot Product"
   ]
  },
  {
   "cell_type": "code",
   "execution_count": 32,
   "id": "ff987113",
   "metadata": {},
   "outputs": [
    {
     "name": "stdout",
     "output_type": "stream",
     "text": [
      "Vector1\n",
      "[ 10  20  30  40  50 -60]\n",
      "Vector2\n",
      "[1 1 1 1 1 2]\n",
      "Dot product of two vectors:  30\n"
     ]
    }
   ],
   "source": [
    "import numpy as np \n",
    "\n",
    "#Creating a list  \n",
    "lst1 = [10,20,30,40,50, -60] \n",
    "lst2 = [1,1,1,1,1,2]\n",
    "\n",
    "#Creating a vectors\n",
    "v1 = np.array(lst1) \n",
    "v2= np.array(lst2) \n",
    "print(\"Vector1\") \n",
    "print(v1) \n",
    "print(\"Vector2\") \n",
    "print(v2) \n",
    "#dot product\n",
    "vdot = v1.dot(v2)\n",
    "print(\"Dot product of two vectors: \",vdot)"
   ]
  },
  {
   "cell_type": "markdown",
   "id": "e946116b",
   "metadata": {},
   "source": [
    "#### 6.3.4 Vector Scalar Multiplication"
   ]
  },
  {
   "cell_type": "code",
   "execution_count": 39,
   "id": "f23946e2",
   "metadata": {},
   "outputs": [
    {
     "name": "stdout",
     "output_type": "stream",
     "text": [
      "Vector 1\n",
      "[ 10.   20.   30.   40.   50.  -60.   12.5]\n",
      "Scalar Value  :  5\n",
      "Vector Scalar Multiplication:  [  50.   100.   150.   200.   250.  -300.    62.5]\n"
     ]
    }
   ],
   "source": [
    "import numpy as np   \n",
    "\n",
    "#Creating a list \n",
    "list1 = [10,20,30,40,50,-60, 12.5] \n",
    "#Creating a vectors\n",
    "v1 = np.array(list1)   \n",
    "scalar = 5  \n",
    "print(\"Vector 1\")   \n",
    "print(v1)   \n",
    "# printing scalar value   \n",
    "print(\"Scalar Value  : \", scalar)   \n",
    "#Vector scalar multiplication   \n",
    "vscalar = v1 * scalar  \n",
    "print(\"Vector Scalar Multiplication: \",vscalar)  "
   ]
  }
 ],
 "metadata": {
  "kernelspec": {
   "display_name": "Python [conda env:my-rdkit-env] *",
   "language": "python",
   "name": "conda-env-my-rdkit-env-py"
  },
  "language_info": {
   "codemirror_mode": {
    "name": "ipython",
    "version": 3
   },
   "file_extension": ".py",
   "mimetype": "text/x-python",
   "name": "python",
   "nbconvert_exporter": "python",
   "pygments_lexer": "ipython3",
   "version": "3.7.13"
  }
 },
 "nbformat": 4,
 "nbformat_minor": 5
}
