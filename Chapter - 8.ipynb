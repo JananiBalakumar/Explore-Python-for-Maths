{
 "cells": [
  {
   "cell_type": "markdown",
   "id": "7d0fcb7e",
   "metadata": {},
   "source": [
    "# Solution of Equations and Eigen Value Problems"
   ]
  },
  {
   "cell_type": "markdown",
   "id": "2b76c898",
   "metadata": {},
   "source": [
    "### 8.2 Linear Interpolation Method"
   ]
  },
  {
   "cell_type": "code",
   "execution_count": 14,
   "id": "dda350ee",
   "metadata": {},
   "outputs": [
    {
     "name": "stdout",
     "output_type": "stream",
     "text": [
      "The root is: 2.0945514208267433\n"
     ]
    }
   ],
   "source": [
    "#Function Definition\n",
    "def f(x):\n",
    "    y = x**3 - 2*x - 5\n",
    "    return y\n",
    "def false_position(func, a, b, tol=1e-6, max_iter=100):\n",
    "    fa = func(a)\n",
    "    fb = func(b)\n",
    "\n",
    "    for i in range(max_iter):\n",
    "        c = (a * fb - b * fa) / (fb - fa)\n",
    "        fc = func(c)\n",
    "\n",
    "        if abs(fc) < tol:\n",
    "            return c\n",
    "\n",
    "        if fc * fa < 0:\n",
    "            b = c\n",
    "            fb = fc\n",
    "        else:\n",
    "            a = c\n",
    "            fa = fc\n",
    "\n",
    "    raise ValueError(\"It doesn't converge within the maximum iterations.\")\n",
    "# Initial interval [0, 1]\n",
    "a = 0\n",
    "b = 1\n",
    "# Call false_position to find the root\n",
    "root = false_position(f, a, b)\n",
    "print(\"The root is:\", root)"
   ]
  },
  {
   "cell_type": "markdown",
   "id": "0fca6a4e",
   "metadata": {},
   "source": [
    "### 8.3 Newton's Method"
   ]
  },
  {
   "cell_type": "code",
   "execution_count": 2,
   "id": "58388643",
   "metadata": {},
   "outputs": [
    {
     "name": "stdout",
     "output_type": "stream",
     "text": [
      "The root is: 0.7320507127756016\n"
     ]
    }
   ],
   "source": [
    "#Function Definition\n",
    "def f(x):\n",
    "    y = x**3 - 6*x + 4\n",
    "    return y\n",
    "def df(x):\n",
    "    y = 3*x**2 - 6\n",
    "    return y\n",
    "def newtons_method(func, derivative, x0, tol=1e-6, max_iter=100):\n",
    "    x = x0\n",
    "    for i in range(max_iter):\n",
    "        fx = func(x)\n",
    "        if abs(fx) < tol:\n",
    "            return x\n",
    "        \n",
    "        # Update x using Newton's method\n",
    "        x = x - fx / derivative(fx)\n",
    "\n",
    "    raise ValueError(\"It doesn't converge within the maximum iterations.\")\n",
    "\n",
    "# Initial guess x0 = 1\n",
    "x0 = 1\n",
    "\n",
    "# Call newtons_method to find the root\n",
    "root = newtons_method(f, df, x0)\n",
    "\n",
    "print(\"The root is:\", root)"
   ]
  },
  {
   "cell_type": "markdown",
   "id": "e76b7eeb",
   "metadata": {},
   "source": [
    "### 8.4 Gaussian Elimination Method"
   ]
  },
  {
   "cell_type": "code",
   "execution_count": 3,
   "id": "71bfa846",
   "metadata": {},
   "outputs": [
    {
     "name": "stdout",
     "output_type": "stream",
     "text": [
      "Solution:\n",
      "[ 2. -1.  3.]\n"
     ]
    }
   ],
   "source": [
    "import numpy as np\n",
    "\n",
    "def gauss_elimination(A, B):\n",
    "    n = len(B)\n",
    "    # Convert the coefficient matrix and constant vector to 'float64' data type\n",
    "    A = A.astype(np.float64)\n",
    "    B = B.astype(np.float64)\n",
    "    \n",
    "    # Augment the coefficient matrix A with the column vector B\n",
    "    augmented_matrix = np.hstack((A, B.reshape(-1, 1)))\n",
    "\n",
    "    for i in range(n):\n",
    "        # Find the pivot row \n",
    "        #(the row with the largest absolute value in the current column)\n",
    "        pivot_row = np.argmax(np.abs(augmented_matrix[i:, i])) + i\n",
    "\n",
    "        # Swap the current row with the pivot row\n",
    "        augmented_matrix[[i, pivot_row]] = augmented_matrix[[pivot_row, i]]\n",
    "\n",
    "        # Make the pivot element 1 \n",
    "        #by dividing the current row by the pivot element\n",
    "        pivot = augmented_matrix[i, i]\n",
    "        augmented_matrix[i] /= pivot\n",
    "\n",
    "        # Eliminate other elements in the current column \n",
    "        #by subtracting multiples of the pivot row\n",
    "        for j in range(i + 1, n):\n",
    "            factor = augmented_matrix[j, i]\n",
    "            augmented_matrix[j] -= factor * augmented_matrix[i]\n",
    "\n",
    "    # Back-substitution to find the values of the variables\n",
    "    X = np.zeros(n)\n",
    "    for i in range(n - 1, -1, -1):\n",
    "        X[i] = augmented_matrix[i, -1]\n",
    "        for j in range(i + 1, n):\n",
    "            X[i] =X[i] - augmented_matrix[i, j] * X[j]\n",
    "    return X\n",
    "\n",
    "# Example system of linear equations:\n",
    "# x + 2y + z = 3\n",
    "# 2x + 3y + 3z = 10\n",
    "# 3x - y + 2z = 13\n",
    "\n",
    "A = np.array([[1, 2, 1],\n",
    "              [2, 3, 3],\n",
    "              [3, -1, 2]])\n",
    "\n",
    "B = np.array([3, 10, 13])\n",
    "\n",
    "# Solve the system of equations using Gauss elimination\n",
    "solution = gauss_elimination(A, B)\n",
    "\n",
    "print(\"Solution:\")\n",
    "print(solution)"
   ]
  },
  {
   "cell_type": "markdown",
   "id": "096792c6",
   "metadata": {},
   "source": [
    "### 8.5 Gauss Jordan Method"
   ]
  },
  {
   "cell_type": "code",
   "execution_count": 24,
   "id": "383e89bd",
   "metadata": {},
   "outputs": [
    {
     "name": "stdout",
     "output_type": "stream",
     "text": [
      "Solution:\n",
      "[ 1.  2. -1. -2.]\n"
     ]
    }
   ],
   "source": [
    "import numpy as np\n",
    "\n",
    "def gauss_jordan(A, B):\n",
    "    n = len(B)\n",
    "    # Convert the coefficient matrix and constant vector to 'float64' data type\n",
    "    A = A.astype(np.float64)\n",
    "    B = B.astype(np.float64)\n",
    "\n",
    "    # Augment the coefficient matrix A with the column vector B\n",
    "    augmented_matrix = np.hstack((A, B.reshape(-1, 1)))\n",
    "\n",
    "    for i in range(n):\n",
    "        # Make the pivot element 1 \n",
    "        #by dividing the current row by the pivot element\n",
    "        pivot = augmented_matrix[i, i]\n",
    "        augmented_matrix[i] /= pivot\n",
    "\n",
    "        # Eliminate other elements in the current column\n",
    "        for j in range(n):\n",
    "            if i != j:\n",
    "                factor = augmented_matrix[j, i]\n",
    "                augmented_matrix[j] -= factor * augmented_matrix[i]\n",
    "\n",
    "    # Extract the solutions (rightmost column) from the augmented matrix\n",
    "    X = augmented_matrix[:, -1]\n",
    "\n",
    "    return X\n",
    "\n",
    "# Example system of linear equations:\n",
    "#x1 + x2 + x3 + 4x4 = -6\n",
    "#x1 + 7x2 + x3 + x4 = 12\n",
    "#x1 + x2 + 6x3 + x4 = -5\n",
    "#5x1 + x2 + x3 + x4 = 4\n",
    "\n",
    "A = np.array([[1,1,1,4],\n",
    "              [1,7,1,1],\n",
    "              [1,1,6,1],\n",
    "              [5,1,1,1]])\n",
    "\n",
    "B = np.array([-6,12,-5,4])\n",
    "\n",
    "# Solve the system of equations using Gauss-Jordan method\n",
    "solution = gauss_jordan(A, B)\n",
    "\n",
    "print(\"Solution:\")\n",
    "print(solution)"
   ]
  },
  {
   "cell_type": "markdown",
   "id": "083dd22f",
   "metadata": {},
   "source": [
    "### 8.6 Gauss Jacobi Method"
   ]
  },
  {
   "cell_type": "code",
   "execution_count": 26,
   "id": "204cb8b7",
   "metadata": {},
   "outputs": [
    {
     "name": "stdout",
     "output_type": "stream",
     "text": [
      "Solution:\n",
      "[ 0.3414867   0.28504262 -0.50517454]\n"
     ]
    }
   ],
   "source": [
    "import numpy as np\n",
    "\n",
    "def gauss_jacobi(A, B, tol=1e-6, max_iter=100):\n",
    "    n = len(B)\n",
    "    X = np.zeros(n)\n",
    "    X_prev = np.zeros(n)\n",
    "\n",
    "    for _ in range(max_iter):\n",
    "        for i in range(n):\n",
    "            # Split the coefficient matrix A into \n",
    "            # diagonal and off-diagonal parts\n",
    "            diag_element = A[i, i]\n",
    "            off_diag_elements = A[i, :].copy()\n",
    "            off_diag_elements[i] = 0\n",
    "\n",
    "            # Calculate the current variable's value using \n",
    "            # the Jacobi update formula\n",
    "            X[i] = (B[i] - np.dot(off_diag_elements, X_prev)) / diag_element\n",
    "\n",
    "        # Check for convergence\n",
    "        if np.all(np.abs(X - X_prev) < tol):\n",
    "            break\n",
    "\n",
    "        # Update the previous iteration's variable values for the next iteration\n",
    "        X_prev = X.copy()\n",
    "    else:\n",
    "        raise ValueError(\"It doesn't converge within the maximum iterations.\")\n",
    "\n",
    "    return X\n",
    "\n",
    "# Example system of linear equations:\n",
    "# 10x - 5y -2z = 3\n",
    "# 4x - 10y + 3z = -3\n",
    "# x + 6y + 10z = -3\n",
    "\n",
    "A = np.array([[10, -5, -2],\n",
    "              [4, -10, 3],\n",
    "              [1, 6, 10]])\n",
    "\n",
    "B = np.array([3, -3, -3])\n",
    "\n",
    "# Solve the system of equations using Gauss-Jacobi method\n",
    "solution = gauss_jacobi(A, B)\n",
    "\n",
    "print(\"Solution:\")\n",
    "print(solution)\n"
   ]
  },
  {
   "cell_type": "markdown",
   "id": "b923172b",
   "metadata": {},
   "source": [
    "### 8.7 Gauss Seidel Method"
   ]
  },
  {
   "cell_type": "code",
   "execution_count": 28,
   "id": "0556704e",
   "metadata": {},
   "outputs": [
    {
     "name": "stdout",
     "output_type": "stream",
     "text": [
      "Solution:\n",
      "[3.01675484 1.98589067 0.91181658]\n"
     ]
    }
   ],
   "source": [
    "import numpy as np\n",
    "\n",
    "def gauss_seidel(A, B, tol=1e-6, max_iter=100):\n",
    "    n = len(B)\n",
    "    X = np.zeros(n)\n",
    "\n",
    "    for _ in range(max_iter):\n",
    "        for i in range(n):\n",
    "            # Split the coefficient matrix A into \n",
    "            # diagonal and off-diagonal parts\n",
    "            diag_element = A[i, i]\n",
    "            off_diag_elements = A[i, :].copy()\n",
    "            off_diag_elements[i] = 0\n",
    "\n",
    "            # Calculate the current variable's value using \n",
    "            # the Gauss-Seidel update formula\n",
    "            X[i] = (B[i] - np.dot(off_diag_elements, X)) / diag_element\n",
    "\n",
    "        # Check for convergence\n",
    "        if np.all(np.abs(A @ X - B) < tol):\n",
    "            break\n",
    "\n",
    "    else:\n",
    "        raise ValueError(\"It doesn't converge within the maximum iterations.\")\n",
    "\n",
    "    return X\n",
    "\n",
    "# Example system of linear equations:\n",
    "# 8x - 3y + 2z = 20\n",
    "# 4x + 11y -z = 33\n",
    "# 6x + 3y + 12z = 35\n",
    "\n",
    "A = np.array([[8, -3, 2],\n",
    "              [4, 11, -1],\n",
    "              [6, 3, 12]])\n",
    "\n",
    "B = np.array([20, 33, 35])\n",
    "\n",
    "# Solve the system of equations using Gauss-Seidel method\n",
    "solution = gauss_seidel(A, B)\n",
    "\n",
    "print(\"Solution:\")\n",
    "print(solution)"
   ]
  },
  {
   "cell_type": "markdown",
   "id": "e5eb5656",
   "metadata": {},
   "source": [
    "### 8.8 Inverse of Matrix by Gauss Elimination Method"
   ]
  },
  {
   "cell_type": "code",
   "execution_count": 36,
   "id": "c62161fa",
   "metadata": {},
   "outputs": [
    {
     "name": "stdout",
     "output_type": "stream",
     "text": [
      "Inverse of A:\n",
      "[[ 0.5         0.         -0.5       ]\n",
      " [ 0.33333333  0.33333333  0.33333333]\n",
      " [ 0.16666667 -0.33333333  0.16666667]]\n"
     ]
    }
   ],
   "source": [
    "import numpy as np\n",
    "\n",
    "def gauss_elimination_inverse(A):\n",
    "    n = A.shape[0]\n",
    "    \n",
    "    # Create an augmented matrix [A|I], where I is the identity matrix\n",
    "    augmented_matrix = np.hstack((A, np.eye(n)))\n",
    "\n",
    "    for i in range(n):\n",
    "        # Make the pivot element 1 by \n",
    "        # dividing the current row by the pivot element\n",
    "        pivot = augmented_matrix[i, i]\n",
    "        augmented_matrix[i] /= pivot\n",
    "\n",
    "        # Eliminate other elements in the current column\n",
    "        for j in range(n):\n",
    "            if i != j:\n",
    "                factor = augmented_matrix[j, i]\n",
    "                augmented_matrix[j] -= factor * augmented_matrix[i]\n",
    "\n",
    "    # Extract the right-hand side (rightmost columns) of the augmented matrix, \n",
    "    # which is the inverse of A\n",
    "    inverse_A = augmented_matrix[:, n:]\n",
    "\n",
    "    return inverse_A\n",
    "\n",
    "# Example matrix to find the inverse of:\n",
    "A = np.array([[1,1,1],\n",
    "              [0,1,-2],\n",
    "              [-1,1,1]])\n",
    "\n",
    "# Find the inverse of matrix A using Gauss elimination\n",
    "inverse_A = gauss_elimination_inverse(A)\n",
    "\n",
    "print(\"Inverse of A:\")\n",
    "print(inverse_A)"
   ]
  },
  {
   "cell_type": "markdown",
   "id": "84ffac0f",
   "metadata": {},
   "source": [
    "### 8.9 Eigen value of a Matrix by Power Method"
   ]
  },
  {
   "cell_type": "code",
   "execution_count": 38,
   "id": "8390e5f1",
   "metadata": {},
   "outputs": [
    {
     "name": "stdout",
     "output_type": "stream",
     "text": [
      "Dominant Eigenvalue: 5.372279703113138\n",
      "Dominant Eigenvector: [0.45742657 1.        ]\n"
     ]
    }
   ],
   "source": [
    "import numpy as np\n",
    "\n",
    "def power_iteration(A, tol=1e-6, max_iter=1000):\n",
    "    n = A.shape[0]\n",
    "    \n",
    "    # Initial random guess for the dominant eigenvector\n",
    "    v = np.random.rand(n)\n",
    "\n",
    "    for _ in range(max_iter):\n",
    "        # Perform matrix-vector multiplication\n",
    "        Av = A @ v\n",
    "\n",
    "        # Calculate the eigenvalue estimate as the maximum element of Av\n",
    "        eigenvalue = np.max(np.abs(Av))\n",
    "\n",
    "        # Normalize the eigenvector estimate\n",
    "        v_next = Av / eigenvalue\n",
    "\n",
    "        # Check for convergence\n",
    "        if np.linalg.norm(v_next - v) < tol:\n",
    "            break\n",
    "\n",
    "        v = v_next\n",
    "\n",
    "    else:\n",
    "        raise ValueError(\"It doesn't converge within the maximum iterations.\")\n",
    "\n",
    "    return eigenvalue, v\n",
    "\n",
    "# Example matrix to find the dominant eigenvalue and eigenvector of:\n",
    "A = np.array([[1, 2],\n",
    "              [3, 4]])\n",
    "\n",
    "# Find the dominant eigenvalue and eigenvector using power iteration\n",
    "dominant_eigenvalue, dominant_eigenvector = power_iteration(A)\n",
    "\n",
    "print(\"Dominant Eigenvalue:\", dominant_eigenvalue)\n",
    "print(\"Dominant Eigenvector:\", dominant_eigenvector)"
   ]
  }
 ],
 "metadata": {
  "kernelspec": {
   "display_name": "Python [conda env:my-rdkit-env] *",
   "language": "python",
   "name": "conda-env-my-rdkit-env-py"
  },
  "language_info": {
   "codemirror_mode": {
    "name": "ipython",
    "version": 3
   },
   "file_extension": ".py",
   "mimetype": "text/x-python",
   "name": "python",
   "nbconvert_exporter": "python",
   "pygments_lexer": "ipython3",
   "version": "3.7.13"
  }
 },
 "nbformat": 4,
 "nbformat_minor": 5
}
