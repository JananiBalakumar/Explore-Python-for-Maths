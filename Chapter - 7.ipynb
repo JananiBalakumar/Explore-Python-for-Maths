{
 "cells": [
  {
   "cell_type": "markdown",
   "id": "2996319c",
   "metadata": {},
   "source": [
    "# Functions"
   ]
  },
  {
   "cell_type": "markdown",
   "id": "ec8d4034",
   "metadata": {},
   "source": [
    "### 7.2 Numeric and Numbers Representation"
   ]
  },
  {
   "cell_type": "code",
   "execution_count": 3,
   "id": "62690b87",
   "metadata": {},
   "outputs": [],
   "source": [
    "import pandas as pd\n",
    "import numpy as np\n",
    "import math as mt"
   ]
  },
  {
   "cell_type": "markdown",
   "id": "91c6e6eb",
   "metadata": {},
   "source": [
    "#### 7.2.1 ceil()"
   ]
  },
  {
   "cell_type": "code",
   "execution_count": 3,
   "id": "ac8a592b",
   "metadata": {},
   "outputs": [
    {
     "data": {
      "text/plain": [
       "4"
      ]
     },
     "execution_count": 3,
     "metadata": {},
     "output_type": "execute_result"
    }
   ],
   "source": [
    "mt.ceil(4)"
   ]
  },
  {
   "cell_type": "code",
   "execution_count": 4,
   "id": "c684d654",
   "metadata": {},
   "outputs": [
    {
     "data": {
      "text/plain": [
       "5"
      ]
     },
     "execution_count": 4,
     "metadata": {},
     "output_type": "execute_result"
    }
   ],
   "source": [
    "mt.ceil(4.1)"
   ]
  },
  {
   "cell_type": "markdown",
   "id": "dfa873cf",
   "metadata": {},
   "source": [
    "#### 7.2.2 fabs()"
   ]
  },
  {
   "cell_type": "code",
   "execution_count": 7,
   "id": "757abbc9",
   "metadata": {},
   "outputs": [
    {
     "data": {
      "text/plain": [
       "4.7"
      ]
     },
     "execution_count": 7,
     "metadata": {},
     "output_type": "execute_result"
    }
   ],
   "source": [
    "mt.fabs(-4.7)"
   ]
  },
  {
   "cell_type": "code",
   "execution_count": 8,
   "id": "e441bd3d",
   "metadata": {},
   "outputs": [
    {
     "data": {
      "text/plain": [
       "4.0"
      ]
     },
     "execution_count": 8,
     "metadata": {},
     "output_type": "execute_result"
    }
   ],
   "source": [
    "mt.fabs(4)"
   ]
  },
  {
   "cell_type": "markdown",
   "id": "aa5619fc",
   "metadata": {},
   "source": [
    "#### 7.2.3 factorial()"
   ]
  },
  {
   "cell_type": "code",
   "execution_count": 9,
   "id": "d07c7469",
   "metadata": {},
   "outputs": [
    {
     "data": {
      "text/plain": [
       "6"
      ]
     },
     "execution_count": 9,
     "metadata": {},
     "output_type": "execute_result"
    }
   ],
   "source": [
    "mt.factorial(3)"
   ]
  },
  {
   "cell_type": "code",
   "execution_count": 10,
   "id": "9ea5e827",
   "metadata": {},
   "outputs": [
    {
     "ename": "ValueError",
     "evalue": "factorial() only accepts integral values",
     "output_type": "error",
     "traceback": [
      "\u001b[1;31m---------------------------------------------------------------------------\u001b[0m",
      "\u001b[1;31mValueError\u001b[0m                                Traceback (most recent call last)",
      "\u001b[1;32m~\\AppData\\Local\\Temp\\ipykernel_14348\\1141198476.py\u001b[0m in \u001b[0;36m<module>\u001b[1;34m\u001b[0m\n\u001b[1;32m----> 1\u001b[1;33m \u001b[0mmt\u001b[0m\u001b[1;33m.\u001b[0m\u001b[0mfactorial\u001b[0m\u001b[1;33m(\u001b[0m\u001b[1;36m3.1\u001b[0m\u001b[1;33m)\u001b[0m\u001b[1;33m\u001b[0m\u001b[1;33m\u001b[0m\u001b[0m\n\u001b[0m",
      "\u001b[1;31mValueError\u001b[0m: factorial() only accepts integral values"
     ]
    }
   ],
   "source": [
    "mt.factorial(3.1)"
   ]
  },
  {
   "cell_type": "markdown",
   "id": "1b7f2058",
   "metadata": {},
   "source": [
    "#### 7.2.4 floor()"
   ]
  },
  {
   "cell_type": "code",
   "execution_count": 6,
   "id": "adfc07fd",
   "metadata": {},
   "outputs": [
    {
     "data": {
      "text/plain": [
       "3"
      ]
     },
     "execution_count": 6,
     "metadata": {},
     "output_type": "execute_result"
    }
   ],
   "source": [
    "mt.floor(3)"
   ]
  },
  {
   "cell_type": "code",
   "execution_count": 7,
   "id": "5f89cd20",
   "metadata": {},
   "outputs": [
    {
     "data": {
      "text/plain": [
       "3"
      ]
     },
     "execution_count": 7,
     "metadata": {},
     "output_type": "execute_result"
    }
   ],
   "source": [
    "mt.floor(3.9)"
   ]
  },
  {
   "cell_type": "markdown",
   "id": "547a3704",
   "metadata": {},
   "source": [
    "#### 7.2.5 comb()"
   ]
  },
  {
   "cell_type": "code",
   "execution_count": 11,
   "id": "8582b28b",
   "metadata": {},
   "outputs": [],
   "source": [
    "footballs = 4\n",
    "bags = 2"
   ]
  },
  {
   "cell_type": "code",
   "execution_count": null,
   "id": "ae04d94a",
   "metadata": {},
   "outputs": [],
   "source": [
    "mt.comb(footballs, bags)"
   ]
  },
  {
   "cell_type": "markdown",
   "id": "46b73aeb",
   "metadata": {},
   "source": [
    "#### 7.2.6 fmod()"
   ]
  },
  {
   "cell_type": "code",
   "execution_count": 15,
   "id": "f72bec71",
   "metadata": {},
   "outputs": [
    {
     "data": {
      "text/plain": [
       "1.0"
      ]
     },
     "execution_count": 15,
     "metadata": {},
     "output_type": "execute_result"
    }
   ],
   "source": [
    "# Return the remainder of 3/2\n",
    "mt.fmod(3,2)"
   ]
  },
  {
   "cell_type": "code",
   "execution_count": 16,
   "id": "7067ab06",
   "metadata": {},
   "outputs": [
    {
     "data": {
      "text/plain": [
       "0.0"
      ]
     },
     "execution_count": 16,
     "metadata": {},
     "output_type": "execute_result"
    }
   ],
   "source": [
    "# Return the remainder of 10/2\n",
    "mt.fmod(10,2)"
   ]
  },
  {
   "cell_type": "code",
   "execution_count": 17,
   "id": "b28a58fe",
   "metadata": {},
   "outputs": [
    {
     "data": {
      "text/plain": [
       "-2.0"
      ]
     },
     "execution_count": 17,
     "metadata": {},
     "output_type": "execute_result"
    }
   ],
   "source": [
    "# Return the remainder of 10/2\n",
    "mt.fmod(-10,4)"
   ]
  },
  {
   "cell_type": "markdown",
   "id": "4b59a725",
   "metadata": {},
   "source": [
    "#### 7.2.7 fsum()"
   ]
  },
  {
   "cell_type": "code",
   "execution_count": 19,
   "id": "061af5cc",
   "metadata": {},
   "outputs": [
    {
     "data": {
      "text/plain": [
       "15.0"
      ]
     },
     "execution_count": 19,
     "metadata": {},
     "output_type": "execute_result"
    }
   ],
   "source": [
    "# Print the sum of all items\n",
    "mt.fsum([1,2,3,4,5])"
   ]
  },
  {
   "cell_type": "code",
   "execution_count": 20,
   "id": "8d94f36a",
   "metadata": {},
   "outputs": [
    {
     "data": {
      "text/plain": [
       "11.4"
      ]
     },
     "execution_count": 20,
     "metadata": {},
     "output_type": "execute_result"
    }
   ],
   "source": [
    "# Print the sum of all items\n",
    "mt.fsum([1.7,2,3.5,4.2])"
   ]
  },
  {
   "cell_type": "markdown",
   "id": "0398ace7",
   "metadata": {},
   "source": [
    "#### 7.2.8 gcd()"
   ]
  },
  {
   "cell_type": "code",
   "execution_count": 21,
   "id": "5038043e",
   "metadata": {},
   "outputs": [
    {
     "name": "stdout",
     "output_type": "stream",
     "text": [
      "3\n",
      "0\n",
      "12\n"
     ]
    }
   ],
   "source": [
    "#find the greatest common divisor of the two integers\n",
    "print(mt. gcd(3,30))\n",
    "print (mt.gcd(0, 0))\n",
    "print (mt.gcd(-12, -36))"
   ]
  },
  {
   "cell_type": "markdown",
   "id": "817ddf5a",
   "metadata": {},
   "source": [
    "#### 7.2.9 isclose()"
   ]
  },
  {
   "cell_type": "code",
   "execution_count": 23,
   "id": "9a2a9a76",
   "metadata": {},
   "outputs": [
    {
     "name": "stdout",
     "output_type": "stream",
     "text": [
      "False\n",
      "True\n"
     ]
    }
   ],
   "source": [
    "#compare the closeness of two values\n",
    "print(mt.isclose(1.233, 1.4566))\n",
    "print(mt.isclose(1.233, 1.233))"
   ]
  },
  {
   "cell_type": "code",
   "execution_count": 24,
   "id": "8253623d",
   "metadata": {},
   "outputs": [
    {
     "name": "stdout",
     "output_type": "stream",
     "text": [
      "True\n",
      "False\n"
     ]
    }
   ],
   "source": [
    "#compare the closeness of two values\n",
    "print(mt.isclose(8.005, 8.450, rel_tol = 0.5))\n",
    "print(mt.isclose(8.005, 8.450, abs_tol = 0.4))"
   ]
  },
  {
   "cell_type": "markdown",
   "id": "9432295c",
   "metadata": {},
   "source": [
    "#### 7.2.10 isfinite()"
   ]
  },
  {
   "cell_type": "code",
   "execution_count": 26,
   "id": "69cd1459",
   "metadata": {},
   "outputs": [
    {
     "name": "stdout",
     "output_type": "stream",
     "text": [
      "True\n",
      "True\n",
      "False\n",
      "False\n"
     ]
    }
   ],
   "source": [
    "# Check whether the values are finite or not\n",
    "print(mt.isfinite(-45.34))\n",
    "print(mt.isfinite(+45.34))\n",
    "print(mt.isfinite(mt.inf))\n",
    "print(mt.isfinite(float(\"nan\")))"
   ]
  },
  {
   "cell_type": "markdown",
   "id": "4cf97ec2",
   "metadata": {},
   "source": [
    "#### 7.2.11 isinf()"
   ]
  },
  {
   "cell_type": "code",
   "execution_count": 29,
   "id": "0f67e724",
   "metadata": {},
   "outputs": [
    {
     "name": "stdout",
     "output_type": "stream",
     "text": [
      "False\n",
      "False\n",
      "True\n",
      "True\n"
     ]
    }
   ],
   "source": [
    "# Check whether the values are infinite or not\n",
    "print(mt.isinf(-45.34))\n",
    "print(mt.isinf(+45.34))\n",
    "print(mt.isinf(mt.inf))\n",
    "print (mt.isinf (float(\"inf\")))"
   ]
  },
  {
   "cell_type": "markdown",
   "id": "f3f4bd78",
   "metadata": {},
   "source": [
    "#### 7.2.12 isnan()"
   ]
  },
  {
   "cell_type": "code",
   "execution_count": 30,
   "id": "306fa569",
   "metadata": {},
   "outputs": [
    {
     "name": "stdout",
     "output_type": "stream",
     "text": [
      "False\n",
      "False\n",
      "True\n",
      "False\n",
      "True\n"
     ]
    }
   ],
   "source": [
    "# Check whether the values are NaN or not\n",
    "print (mt.isnan (-45.34))\n",
    "print (mt.isnan (+45.34))\n",
    "print (mt.isnan (float(\"nan\")))\n",
    "print (mt.isnan (float(\"-inf\")))\n",
    "print (mt.isnan (mt.nan))\n"
   ]
  },
  {
   "cell_type": "markdown",
   "id": "79da526d",
   "metadata": {},
   "source": [
    "#### 7.2.13 ldexp()"
   ]
  },
  {
   "cell_type": "code",
   "execution_count": 42,
   "id": "06ae9ec8",
   "metadata": {},
   "outputs": [
    {
     "name": "stdout",
     "output_type": "stream",
     "text": [
      "288.0\n",
      "-1.25\n",
      "-60.0\n"
     ]
    }
   ],
   "source": [
    "#Return value of x * (2**y)\n",
    "print(mt.ldexp(9, 5))\n",
    "print(mt.ldexp(-5, -2))\n",
    "print(mt.ldexp(-15, 2))"
   ]
  },
  {
   "cell_type": "markdown",
   "id": "dde61513",
   "metadata": {},
   "source": [
    "#### 7.2.14 remainder()"
   ]
  },
  {
   "cell_type": "code",
   "execution_count": 48,
   "id": "e7b57a02",
   "metadata": {},
   "outputs": [
    {
     "name": "stdout",
     "output_type": "stream",
     "text": [
      "1.0\n",
      "0.0\n",
      "-2.0\n"
     ]
    }
   ],
   "source": [
    "# Return the remainder of x/y\n",
    "print (mt.remainder(9, 2))\n",
    "print (mt.remainder(9, 3))\n",
    "print (mt.remainder(-18, 4))"
   ]
  },
  {
   "cell_type": "markdown",
   "id": "e4bbe6aa",
   "metadata": {},
   "source": [
    "#### 7.2.15 trunc()"
   ]
  },
  {
   "cell_type": "code",
   "execution_count": 50,
   "id": "b9632c8c",
   "metadata": {},
   "outputs": [
    {
     "name": "stdout",
     "output_type": "stream",
     "text": [
      "2\n",
      "8\n",
      "-99\n"
     ]
    }
   ],
   "source": [
    "# Returns the truncated integer parts \n",
    "print(mt.trunc(2.77))\n",
    "print(mt.trunc(8.32))\n",
    "print(mt.trunc(-99.29))"
   ]
  },
  {
   "cell_type": "markdown",
   "id": "59822ee0",
   "metadata": {},
   "source": [
    "### 7.3 Power and Logarithmic functions"
   ]
  },
  {
   "cell_type": "markdown",
   "id": "0d1f8c92",
   "metadata": {},
   "source": [
    "#### 7.3.1 exp()"
   ]
  },
  {
   "cell_type": "code",
   "execution_count": 14,
   "id": "19235b11",
   "metadata": {},
   "outputs": [
    {
     "name": "stdout",
     "output_type": "stream",
     "text": [
      "1.6948892444103338e+28\n",
      "0.0010179138409954387\n"
     ]
    }
   ],
   "source": [
    "#find the exponential of the value\n",
    "print(mt.exp(65))\n",
    "print(mt.exp(-6.89))"
   ]
  },
  {
   "cell_type": "markdown",
   "id": "06134c07",
   "metadata": {},
   "source": [
    "#### 7.3.2 log()"
   ]
  },
  {
   "cell_type": "code",
   "execution_count": 15,
   "id": "587a2189",
   "metadata": {},
   "outputs": [
    {
     "name": "stdout",
     "output_type": "stream",
     "text": [
      "1.0000066849139877\n",
      "0.6931471805599453\n",
      "0.0\n"
     ]
    }
   ],
   "source": [
    "# Return the natural logarithm of numbers\n",
    "print(mt.log(2.7183))\n",
    "print(mt.log(2))\n",
    "print(mt.log(1))"
   ]
  },
  {
   "cell_type": "markdown",
   "id": "2b5edf99",
   "metadata": {},
   "source": [
    "#### 7.3.3 log2()"
   ]
  },
  {
   "cell_type": "code",
   "execution_count": 16,
   "id": "937ec165",
   "metadata": {},
   "outputs": [
    {
     "name": "stdout",
     "output_type": "stream",
     "text": [
      "1.4427046851812222\n",
      "1.0\n",
      "0.0\n"
     ]
    }
   ],
   "source": [
    "# Return the base-2 logarithm of numbers\n",
    "print(mt.log2(2.7183))\n",
    "print(mt.log2(2))\n",
    "print(mt.log2(1))"
   ]
  },
  {
   "cell_type": "markdown",
   "id": "1aa14737",
   "metadata": {},
   "source": [
    "#### 7.3.4 log10()"
   ]
  },
  {
   "cell_type": "code",
   "execution_count": 17,
   "id": "253aefb4",
   "metadata": {},
   "outputs": [
    {
     "name": "stdout",
     "output_type": "stream",
     "text": [
      "0.43429738512450866\n",
      "0.3010299956639812\n",
      "0.0\n"
     ]
    }
   ],
   "source": [
    "# Return the base-10 logarithm of numbers\n",
    "print(mt.log10(2.7183))\n",
    "print(mt.log10(2))\n",
    "print(mt.log10(1))"
   ]
  },
  {
   "cell_type": "markdown",
   "id": "44160af4",
   "metadata": {},
   "source": [
    "#### 7.3.5 pow()"
   ]
  },
  {
   "cell_type": "code",
   "execution_count": 18,
   "id": "72bbadcb",
   "metadata": {},
   "outputs": [
    {
     "name": "stdout",
     "output_type": "stream",
     "text": [
      "125.0\n"
     ]
    }
   ],
   "source": [
    "#Return the value of 5 raised to the power of 3\n",
    "print(mt.pow(5, 3))"
   ]
  },
  {
   "cell_type": "markdown",
   "id": "28cf4a3e",
   "metadata": {},
   "source": [
    "#### 7.3.6 sqrt()"
   ]
  },
  {
   "cell_type": "code",
   "execution_count": 19,
   "id": "62a88c04",
   "metadata": {},
   "outputs": [
    {
     "name": "stdout",
     "output_type": "stream",
     "text": [
      "1.4142135623730951\n",
      "3.0\n",
      "2.449489742783178\n"
     ]
    }
   ],
   "source": [
    "# Return the square root of different numbers\n",
    "print (mt.sqrt(2))\n",
    "print (mt.sqrt(9))\n",
    "print (mt.sqrt(6))"
   ]
  },
  {
   "cell_type": "markdown",
   "id": "c49e935d",
   "metadata": {},
   "source": [
    "### 7.4 Trigonometric Functions"
   ]
  },
  {
   "cell_type": "markdown",
   "id": "4f6d3152",
   "metadata": {},
   "source": [
    "#### 7.4.1 acos()"
   ]
  },
  {
   "cell_type": "code",
   "execution_count": 20,
   "id": "45f75387",
   "metadata": {},
   "outputs": [
    {
     "name": "stdout",
     "output_type": "stream",
     "text": [
      "0.9884320889261531\n",
      "2.15316056466364\n",
      "1.5707963267948966\n",
      "0.0\n"
     ]
    }
   ],
   "source": [
    "# Return the arc cosine of numbers\n",
    "print(mt.acos(0.55))\n",
    "print(mt.acos(-0.55))\n",
    "print(mt.acos(0))\n",
    "print(mt.acos(1))"
   ]
  },
  {
   "cell_type": "markdown",
   "id": "1c9ec9fa",
   "metadata": {},
   "source": [
    "#### 7.4.2 asin()"
   ]
  },
  {
   "cell_type": "code",
   "execution_count": 21,
   "id": "0973a02c",
   "metadata": {},
   "outputs": [
    {
     "name": "stdout",
     "output_type": "stream",
     "text": [
      "0.5823642378687435\n",
      "-0.5823642378687435\n",
      "0.0\n",
      "1.5707963267948966\n"
     ]
    }
   ],
   "source": [
    "# Return the arc sine of numbers\n",
    "print(mt.asin(0.55))\n",
    "print(mt.asin(-0.55))\n",
    "print(mt.asin(0))\n",
    "print(mt.asin(1))"
   ]
  },
  {
   "cell_type": "markdown",
   "id": "c6993d49",
   "metadata": {},
   "source": [
    "#### 7.4.3 atan()"
   ]
  },
  {
   "cell_type": "code",
   "execution_count": 22,
   "id": "71c4ebc1",
   "metadata": {},
   "outputs": [
    {
     "name": "stdout",
     "output_type": "stream",
     "text": [
      "0.37185607384858127\n",
      "1.5558720618048116\n",
      "-1.5232132235179132\n"
     ]
    }
   ],
   "source": [
    "#Return the arc tangent of  numbers\n",
    "print (mt.atan(0.39))\n",
    "print (mt.atan(67))\n",
    "print (mt.atan(-21))"
   ]
  },
  {
   "cell_type": "markdown",
   "id": "049a4501",
   "metadata": {},
   "source": [
    "#### 7.4.4 cos()"
   ]
  },
  {
   "cell_type": "code",
   "execution_count": 23,
   "id": "683fd739",
   "metadata": {},
   "outputs": [
    {
     "name": "stdout",
     "output_type": "stream",
     "text": [
      "0.8525245220595057\n",
      "0.8525245220595057\n",
      "1.0\n",
      "0.5403023058681398\n"
     ]
    }
   ],
   "source": [
    "# Return the cosine of numbers\n",
    "print(mt.cos(0.55))\n",
    "print(mt.cos(-0.55))\n",
    "print(mt.cos(0))\n",
    "print(mt.cos(1))"
   ]
  },
  {
   "cell_type": "markdown",
   "id": "02c49fd5",
   "metadata": {},
   "source": [
    "#### 7.4.5 sin()"
   ]
  },
  {
   "cell_type": "code",
   "execution_count": 24,
   "id": "de3c4ee5",
   "metadata": {},
   "outputs": [
    {
     "name": "stdout",
     "output_type": "stream",
     "text": [
      "0.5226872289306592\n",
      "-0.5226872289306592\n",
      "0.0\n",
      "0.8414709848078965\n"
     ]
    }
   ],
   "source": [
    "# Return the sine of numbers\n",
    "print(mt.sin(0.55))\n",
    "print(mt.sin(-0.55))\n",
    "print(mt.sin(0))\n",
    "print(mt.sin(1))"
   ]
  },
  {
   "cell_type": "markdown",
   "id": "c5268f85",
   "metadata": {},
   "source": [
    "#### 7.4.6 tan()"
   ]
  },
  {
   "cell_type": "code",
   "execution_count": 25,
   "id": "cc981374",
   "metadata": {},
   "outputs": [
    {
     "name": "stdout",
     "output_type": "stream",
     "text": [
      "0.4110549151522136\n",
      "1.6523172640102353\n",
      "1.5274985276366035\n"
     ]
    }
   ],
   "source": [
    "#Return the tangent of  numbers\n",
    "print (mt.tan(0.39))\n",
    "print (mt.tan(67))\n",
    "print (mt.tan(-21))"
   ]
  },
  {
   "cell_type": "markdown",
   "id": "8f9e6b02",
   "metadata": {},
   "source": [
    "### 7.5 Angular Conversion Functions"
   ]
  },
  {
   "cell_type": "markdown",
   "id": "ce35c897",
   "metadata": {},
   "source": [
    "#### 7.5.1 degrees()"
   ]
  },
  {
   "cell_type": "code",
   "execution_count": 26,
   "id": "895a2d8e",
   "metadata": {},
   "outputs": [
    {
     "name": "stdout",
     "output_type": "stream",
     "text": [
      "395.34087864026804\n",
      "-4583.662361046586\n",
      "57.29577951308232\n",
      "5156.620156177409\n"
     ]
    }
   ],
   "source": [
    "# Convert from radians to degrees\n",
    "print (mt.degrees(6.90))\n",
    "print (mt.degrees(-80))\n",
    "print (mt.degrees(1))\n",
    "print (mt.degrees(90))"
   ]
  },
  {
   "cell_type": "markdown",
   "id": "6226a1f8",
   "metadata": {},
   "source": [
    "#### 7.5.2 radians()"
   ]
  },
  {
   "cell_type": "code",
   "execution_count": 27,
   "id": "e3d51afc",
   "metadata": {},
   "outputs": [
    {
     "name": "stdout",
     "output_type": "stream",
     "text": [
      "2.0943951023931953\n",
      "1.7458528507699278\n",
      "-0.8726646259971648\n"
     ]
    }
   ],
   "source": [
    "# Convert different degrees into radians\n",
    "print(mt.radians(120))\n",
    "print(mt.radians(100.03))\n",
    "print(mt.radians(-50))"
   ]
  },
  {
   "cell_type": "markdown",
   "id": "a5c2fea8",
   "metadata": {},
   "source": [
    "### 7.6 Hyperbolic Functions"
   ]
  },
  {
   "cell_type": "markdown",
   "id": "f7946b92",
   "metadata": {},
   "source": [
    "#### 7.6.1 acosh()"
   ]
  },
  {
   "cell_type": "code",
   "execution_count": 28,
   "id": "e0f8d3a5",
   "metadata": {},
   "outputs": [
    {
     "name": "stdout",
     "output_type": "stream",
     "text": [
      "2.8872709503576206\n",
      "4.68204548221464\n",
      "2.6968261699728426\n",
      "0.0\n"
     ]
    }
   ],
   "source": [
    "# Return the inverse hyperbolic cosine value\n",
    "print (mt.acosh(9))\n",
    "print (mt.acosh(54))\n",
    "print (mt.acosh(7.45))\n",
    "print (mt.acosh(1))"
   ]
  },
  {
   "cell_type": "markdown",
   "id": "e711db95",
   "metadata": {},
   "source": [
    "#### 7.6.2 asinh()"
   ]
  },
  {
   "cell_type": "code",
   "execution_count": 29,
   "id": "f3607189",
   "metadata": {},
   "outputs": [
    {
     "name": "stdout",
     "output_type": "stream",
     "text": [
      "2.8934439858858716\n",
      "4.6822169499829025\n",
      "2.7058353825261974\n",
      "0.8813735870195429\n"
     ]
    }
   ],
   "source": [
    "# Return the inverse hyperbolic sine value\n",
    "print (mt.asinh(9))\n",
    "print (mt.asinh(54))\n",
    "print (mt.asinh(7.45))\n",
    "print (mt.asinh(1))"
   ]
  },
  {
   "cell_type": "markdown",
   "id": "03620df7",
   "metadata": {},
   "source": [
    "#### 7.6.3 atanh()"
   ]
  },
  {
   "cell_type": "code",
   "execution_count": 30,
   "id": "af98c8a1",
   "metadata": {},
   "outputs": [
    {
     "name": "stdout",
     "output_type": "stream",
     "text": [
      "0.25968406049455256\n",
      "-0.6084002307344781\n"
     ]
    }
   ],
   "source": [
    "# Return the inverse hyperbolic tan value\n",
    "print (mt.atanh(0.254))\n",
    "print (mt.atanh(-0.543))"
   ]
  },
  {
   "cell_type": "markdown",
   "id": "143d4e4d",
   "metadata": {},
   "source": [
    "#### 7.6.4 cosh()"
   ]
  },
  {
   "cell_type": "code",
   "execution_count": 31,
   "id": "e2dcae1a",
   "metadata": {},
   "outputs": [
    {
     "name": "stdout",
     "output_type": "stream",
     "text": [
      "4051.542025492594\n",
      "1.415376651637347e+23\n",
      "859.9318634087674\n",
      "1.5430806348152437\n"
     ]
    }
   ],
   "source": [
    "# Return the hyperbolic cosine value\n",
    "print (mt.cosh(9))\n",
    "print (mt.cosh(54))\n",
    "print (mt.cosh(7.45))\n",
    "print (mt.cosh(1))"
   ]
  },
  {
   "cell_type": "markdown",
   "id": "2b3e05f1",
   "metadata": {},
   "source": [
    "#### 7.6.5 sinh()"
   ]
  },
  {
   "cell_type": "code",
   "execution_count": 32,
   "id": "1a952057",
   "metadata": {},
   "outputs": [
    {
     "name": "stdout",
     "output_type": "stream",
     "text": [
      "4051.54190208279\n",
      "1.415376651637347e+23\n",
      "859.9312819671552\n",
      "1.1752011936438014\n"
     ]
    }
   ],
   "source": [
    "# Return the hyperbolic sine value\n",
    "print (mt.sinh(9))\n",
    "print (mt.sinh(54))\n",
    "print (mt.sinh(7.45))\n",
    "print (mt.sinh(1))"
   ]
  },
  {
   "cell_type": "markdown",
   "id": "43afd8b8",
   "metadata": {},
   "source": [
    "#### 7.6.6 tanh()"
   ]
  },
  {
   "cell_type": "code",
   "execution_count": 33,
   "id": "8c850ee3",
   "metadata": {},
   "outputs": [
    {
     "name": "stdout",
     "output_type": "stream",
     "text": [
      "0.24867502175500816\n",
      "-0.4952554948745349\n"
     ]
    }
   ],
   "source": [
    "# Return the hyperbolic tan value\n",
    "print (mt.tanh(0.254))\n",
    "print (mt.tanh(-0.543))"
   ]
  },
  {
   "cell_type": "markdown",
   "id": "5a007aa2",
   "metadata": {},
   "source": [
    "### 7.7 Special Functions"
   ]
  },
  {
   "cell_type": "markdown",
   "id": "9bdfefa7",
   "metadata": {},
   "source": [
    "#### 7.7.1 erf()"
   ]
  },
  {
   "cell_type": "code",
   "execution_count": 52,
   "id": "e6e2ae97",
   "metadata": {},
   "outputs": [
    {
     "name": "stdout",
     "output_type": "stream",
     "text": [
      "0.6566277023003051\n",
      "0.9419137152583654\n",
      "-1.0\n"
     ]
    }
   ],
   "source": [
    "# Print error function for different numbers\n",
    "print (mt.erf(0.67))\n",
    "print (mt.erf(1.34))\n",
    "print (mt.erf(-6))"
   ]
  },
  {
   "cell_type": "markdown",
   "id": "a9aba496",
   "metadata": {},
   "source": [
    "#### 7.7.2 erfc()"
   ]
  },
  {
   "cell_type": "code",
   "execution_count": 35,
   "id": "a4e146ed",
   "metadata": {},
   "outputs": [
    {
     "name": "stdout",
     "output_type": "stream",
     "text": [
      "0.3433722976996949\n",
      "7.958185250532775e-05\n",
      "2.0\n"
     ]
    }
   ],
   "source": [
    "# Print complementary error function \n",
    "print (mt.erfc(0.67))\n",
    "print (mt.erfc(+2.79))\n",
    "print (mt.erfc(-6))"
   ]
  },
  {
   "cell_type": "markdown",
   "id": "1d980ce2",
   "metadata": {},
   "source": [
    "#### 7.7.3 gamma()"
   ]
  },
  {
   "cell_type": "code",
   "execution_count": 56,
   "id": "4ed03b02",
   "metadata": {},
   "outputs": [
    {
     "name": "stdout",
     "output_type": "stream",
     "text": [
      "5040.0\n",
      "0.9181687423997604\n",
      "8.946182130782976e+116\n"
     ]
    }
   ],
   "source": [
    "# Return the gamma function \n",
    "print(mt.gamma(8))\n",
    "print(mt.gamma(1.2))\n",
    "print(mt.gamma(80))"
   ]
  },
  {
   "cell_type": "markdown",
   "id": "7a0fe873",
   "metadata": {},
   "source": [
    "#### 7.7.4 lgamma()"
   ]
  },
  {
   "cell_type": "code",
   "execution_count": 57,
   "id": "970366b6",
   "metadata": {},
   "outputs": [
    {
     "name": "stdout",
     "output_type": "stream",
     "text": [
      "-7.689268043425326\n",
      "1.7917594692280554\n",
      "5.806524738100762\n"
     ]
    }
   ],
   "source": [
    "# Return the log gamma value \n",
    "print (mt.lgamma(-7.28))\n",
    "print (mt.lgamma(4))\n",
    "print (mt.lgamma(+6.58))"
   ]
  }
 ],
 "metadata": {
  "kernelspec": {
   "display_name": "Python 3 (ipykernel)",
   "language": "python",
   "name": "python3"
  },
  "language_info": {
   "codemirror_mode": {
    "name": "ipython",
    "version": 3
   },
   "file_extension": ".py",
   "mimetype": "text/x-python",
   "name": "python",
   "nbconvert_exporter": "python",
   "pygments_lexer": "ipython3",
   "version": "3.7.13"
  }
 },
 "nbformat": 4,
 "nbformat_minor": 5
}
