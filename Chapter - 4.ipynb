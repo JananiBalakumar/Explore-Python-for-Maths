{
 "cells": [
  {
   "cell_type": "markdown",
   "id": "0b9bab43",
   "metadata": {},
   "source": [
    "# Arrays"
   ]
  },
  {
   "cell_type": "markdown",
   "id": "42a1fb8d",
   "metadata": {},
   "source": [
    "### 4.2 Array Creation"
   ]
  },
  {
   "cell_type": "code",
   "execution_count": 1,
   "id": "cea0637e",
   "metadata": {},
   "outputs": [
    {
     "name": "stdout",
     "output_type": "stream",
     "text": [
      "Requirement already satisfied: numpy in c:\\users\\balas\\anaconda3\\envs\\my-rdkit-env\\lib\\site-packages (1.21.5)\n",
      "Note: you may need to restart the kernel to use updated packages.\n"
     ]
    }
   ],
   "source": [
    "pip install numpy"
   ]
  },
  {
   "cell_type": "code",
   "execution_count": 4,
   "id": "53e3b02c",
   "metadata": {},
   "outputs": [],
   "source": [
    "import numpy as np"
   ]
  },
  {
   "cell_type": "code",
   "execution_count": 5,
   "id": "22ef339d",
   "metadata": {},
   "outputs": [
    {
     "name": "stdout",
     "output_type": "stream",
     "text": [
      "[10 20 30 40]\n",
      "<class 'numpy.ndarray'>\n"
     ]
    }
   ],
   "source": [
    "#importing NumPy\n",
    "import numpy as np\n",
    "\n",
    "#Array creation\n",
    "ar = np.array([10,20,30,40])\n",
    "print(ar)\n",
    "\n",
    "#returns the type of an array\n",
    "print(type(ar))"
   ]
  },
  {
   "cell_type": "code",
   "execution_count": 1,
   "id": "ce67bd50",
   "metadata": {},
   "outputs": [
    {
     "name": "stdout",
     "output_type": "stream",
     "text": [
      "4\n",
      "[10 20 30 40 50]\n",
      "[[1 2 3 4]\n",
      " [5 6 7 8]]\n",
      "[[[ 1  2  3]\n",
      "  [ 5  6  7]\n",
      "  [ 9 10 11]]]\n"
     ]
    }
   ],
   "source": [
    "#importing NumPy\n",
    "import numpy as np\n",
    "\n",
    "#0-D Array Creation\n",
    "ar = np.array(4)\n",
    "print(ar)\n",
    "\n",
    "#1-D Array Creation\n",
    "ar = np.array([10,20,30,40,50])\n",
    "print(ar)\n",
    "\n",
    "#2-D Array Creation\n",
    "ar = np.array([[1,2,3,4],[5,6,7,8]])\n",
    "print(ar)\n",
    "\n",
    "#3-D Array Creation\n",
    "ar = np. array([[[1,2,3],[5,6,7],[9,10,11]]])\n",
    "print(ar)"
   ]
  },
  {
   "cell_type": "markdown",
   "id": "3e38172d",
   "metadata": {},
   "source": [
    "### 4.3 Accessing Array Elements"
   ]
  },
  {
   "cell_type": "code",
   "execution_count": 15,
   "id": "415918c2",
   "metadata": {},
   "outputs": [
    {
     "name": "stdout",
     "output_type": "stream",
     "text": [
      "Original Array [10 20 30 40 50]\n",
      "Second Element is :  20\n"
     ]
    }
   ],
   "source": [
    "#importing NumPy\n",
    "import numpy as np\n",
    "\n",
    "#Array Creation\n",
    "ar = np.array([10,20,30,40,50])\n",
    "print(\"Original Array\", ar)\n",
    "\n",
    "#Accessing 2nd element\n",
    "print(\"Second Element is : \", ar[1])"
   ]
  },
  {
   "cell_type": "markdown",
   "id": "38162dff",
   "metadata": {},
   "source": [
    "#### 4.3.1 Accessing 2-D Array Elements"
   ]
  },
  {
   "cell_type": "code",
   "execution_count": 16,
   "id": "bb3764a4",
   "metadata": {},
   "outputs": [
    {
     "name": "stdout",
     "output_type": "stream",
     "text": [
      "Original Array :  [[1 2 3 4]\n",
      " [5 6 7 8]]\n",
      "3rd Element in 2nd row is :  7\n"
     ]
    }
   ],
   "source": [
    "#importing Numpy\n",
    "import numpy as np\n",
    "\n",
    "#2-D Array Creation\n",
    "ar = np.array([[1,2,3,4],[5,6,7,8]])\n",
    "print(\"Original Array : \", ar)\n",
    "\n",
    "#Accessing 3rd element in 2nd row\n",
    "print(\"3rd Element in 2nd row is : \", ar[1,2])"
   ]
  },
  {
   "cell_type": "markdown",
   "id": "8c203a05",
   "metadata": {},
   "source": [
    "#### 4.3.2 Accessing 3-D Array Elements"
   ]
  },
  {
   "cell_type": "code",
   "execution_count": 6,
   "id": "dac400fc",
   "metadata": {},
   "outputs": [
    {
     "name": "stdout",
     "output_type": "stream",
     "text": [
      "Original Array: \n",
      " [[[ 1  2  3  4]\n",
      "  [ 5  6  7  8]\n",
      "  [ 9 10 11 12]]]\n",
      "Accessed Element is :  5\n"
     ]
    }
   ],
   "source": [
    "#importing NumPy\n",
    "import numpy as np\n",
    "\n",
    "#3-D Array Creation\n",
    "ar = np. array([[[1,2,3,4],[5,6,7,8],[9,10,11,12]]])\n",
    "\n",
    "print(\"Original Array: \\n\", ar)\n",
    "\n",
    "#Accessing Elements\n",
    "print(\"Accessed Element is : \", ar[0,1,0])"
   ]
  },
  {
   "cell_type": "code",
   "execution_count": 8,
   "id": "75fe24b5",
   "metadata": {},
   "outputs": [
    {
     "name": "stdout",
     "output_type": "stream",
     "text": [
      "Original Array: \n",
      " [[[ 1  2]\n",
      "  [ 3  4]\n",
      "  [ 5  6]]\n",
      "\n",
      " [[ 7  8]\n",
      "  [ 9 10]\n",
      "  [11 12]]\n",
      "\n",
      " [[13 14]\n",
      "  [15 16]\n",
      "  [17 18]]]\n",
      "Accessed Element is :  12\n"
     ]
    }
   ],
   "source": [
    "# Importing NumPy\n",
    "import numpy as np\n",
    "\n",
    "# 3-D Array Creation with 3 blocks\n",
    "ar = np.array([[[1, 2], [3,4], [5,6]],\n",
    "               [[7,8], [9,10], [11,12]],\n",
    "               [[13,14], [15,16], [17,18]]])\n",
    "\n",
    "print(\"Original Array: \\n\", ar)\n",
    "\n",
    "# Accessing Elements\n",
    "print(\"Accessed Element is : \", ar[1, 2, 1])\n"
   ]
  },
  {
   "cell_type": "markdown",
   "id": "abcf8499",
   "metadata": {},
   "source": [
    "### 4.4 Array Slicing"
   ]
  },
  {
   "cell_type": "code",
   "execution_count": 6,
   "id": "1f53d5b6",
   "metadata": {},
   "outputs": [
    {
     "name": "stdout",
     "output_type": "stream",
     "text": [
      "Original Array:  [10 20 30 40 50 60 70 80]\n",
      "Sliced Array:  [40 50 60 70 80]\n"
     ]
    }
   ],
   "source": [
    "#importing NumPy\n",
    "import numpy as np\n",
    "\n",
    "#Array Creation\n",
    "ar = np.array([10,20,30,40,50,60,70,80])\n",
    "print(\"Original Array: \", ar)\n",
    "\n",
    "#Slicing\n",
    "print(\"Sliced Array: \", ar[3:])"
   ]
  },
  {
   "cell_type": "code",
   "execution_count": 7,
   "id": "61a37e86",
   "metadata": {},
   "outputs": [
    {
     "name": "stdout",
     "output_type": "stream",
     "text": [
      "Original Array:  [10 20 30 40 50 60 70 80]\n",
      "Sliced Array:  [10 20 30 40 50]\n"
     ]
    }
   ],
   "source": [
    "#importing NumPy\n",
    "import numpy as np\n",
    "\n",
    "#Array Creation\n",
    "ar = np.array([10,20,30,40,50,60,70,80])\n",
    "print(\"Original Array: \", ar)\n",
    "\n",
    "#Slicing\n",
    "print(\"Sliced Array: \", ar[:5])"
   ]
  },
  {
   "cell_type": "code",
   "execution_count": 5,
   "id": "40b8cfd6",
   "metadata": {},
   "outputs": [
    {
     "name": "stdout",
     "output_type": "stream",
     "text": [
      "Original Array:  [10 20 30 40 50 60 70 80]\n",
      "Sliced Array:  [20 30 40 50 60]\n"
     ]
    }
   ],
   "source": [
    "#importing NumPy\n",
    "import numpy as np\n",
    "\n",
    "#Array Creation\n",
    "ar = np.array([10,20,30,40,50,60,70,80])\n",
    "print(\"Original Array: \", ar)\n",
    "\n",
    "#Slicing\n",
    "print(\"Sliced Array: \", ar[1:6])"
   ]
  },
  {
   "cell_type": "code",
   "execution_count": 10,
   "id": "10391190",
   "metadata": {},
   "outputs": [
    {
     "name": "stdout",
     "output_type": "stream",
     "text": [
      "Original Array:  [10 20 30 40 50 60 70 80]\n",
      "Sliced Array:  [50 60 70]\n"
     ]
    }
   ],
   "source": [
    "#importing NumPy\n",
    "import numpy as np\n",
    "\n",
    "#Array Creation\n",
    "ar = np.array([10,20,30,40,50,60,70,80])\n",
    "print(\"Original Array: \", ar)\n",
    "\n",
    "#Negative Slicing\n",
    "print(\"Sliced Array: \", ar[-4:-1])"
   ]
  },
  {
   "cell_type": "code",
   "execution_count": 12,
   "id": "6a0c8138",
   "metadata": {},
   "outputs": [
    {
     "name": "stdout",
     "output_type": "stream",
     "text": [
      "Original Array:  [10 20 30 40 50 60 70 80]\n",
      "Sliced Array:  [20 50]\n"
     ]
    }
   ],
   "source": [
    "#importing NumPy\n",
    "import numpy as np\n",
    "\n",
    "#Array Creation\n",
    "ar = np.array([10,20,30,40,50,60,70,80])\n",
    "print(\"Original Array: \", ar)\n",
    "\n",
    "#Slicing using Step\n",
    "print(\"Sliced Array: \", ar[1:6:3])"
   ]
  },
  {
   "cell_type": "code",
   "execution_count": 9,
   "id": "fdc4a3d6",
   "metadata": {},
   "outputs": [
    {
     "name": "stdout",
     "output_type": "stream",
     "text": [
      "Original Array:  [10 20 30 40 50 60 70 80]\n",
      "Sliced Array:  [20 40 60]\n"
     ]
    }
   ],
   "source": [
    "#importing NumPy\n",
    "import numpy as np\n",
    "\n",
    "#Array Creation\n",
    "ar = np.array([10,20,30,40,50,60,70,80])\n",
    "print(\"Original Array: \", ar)\n",
    "\n",
    "#Slicing using Step\n",
    "print(\"Sliced Array: \", ar[1:6:2])"
   ]
  },
  {
   "cell_type": "code",
   "execution_count": 3,
   "id": "13b0961e",
   "metadata": {},
   "outputs": [
    {
     "name": "stdout",
     "output_type": "stream",
     "text": [
      "Original Array:\n",
      "  [[1 2 3 4]\n",
      " [5 6 7 8]]\n",
      "Sliced Array\n",
      "[6 7 8]\n"
     ]
    }
   ],
   "source": [
    "#importing NumPy\n",
    "import numpy as np\n",
    "\n",
    "#2-D Array Creation\n",
    "ar = np.array([[1, 2, 3, 4], [5, 6, 7, 8]])\n",
    "print(\"Original Array:\\n \", ar)\n",
    "\n",
    "#Slicing\n",
    "print(\"Sliced Array\")\n",
    "print(ar[1,1:4])"
   ]
  },
  {
   "cell_type": "markdown",
   "id": "19d1099c",
   "metadata": {},
   "source": [
    "### 4.5 Array Shape and Reshaping"
   ]
  },
  {
   "cell_type": "code",
   "execution_count": 13,
   "id": "ae7812c6",
   "metadata": {},
   "outputs": [
    {
     "name": "stdout",
     "output_type": "stream",
     "text": [
      "Original Array:  [[ 1  2  3  4  5]\n",
      " [ 6  7  8  9 10]]\n",
      "(2, 5)\n"
     ]
    }
   ],
   "source": [
    "#importing NumPy\n",
    "import numpy as np\n",
    "\n",
    "#2-D Array Creation\n",
    "ar = np.array([[1, 2, 3, 4, 5], [6, 7, 8, 9, 10]])\n",
    "print(\"Original Array: \", ar)\n",
    "\n",
    "#Shape\n",
    "print(ar.shape)"
   ]
  },
  {
   "cell_type": "code",
   "execution_count": 16,
   "id": "c5d2b461",
   "metadata": {},
   "outputs": [
    {
     "name": "stdout",
     "output_type": "stream",
     "text": [
      "Original Array:  [[[1 2 3 4]]]\n",
      "(1, 1, 4)\n"
     ]
    }
   ],
   "source": [
    "#importing NumPy\n",
    "import numpy as np\n",
    "\n",
    "#3-D Array Creation\n",
    "ar = np.array([1, 2, 3, 4], ndmin = 3)\n",
    "print(\"Original Array: \", ar)\n",
    "\n",
    "#Shape\n",
    "print(ar.shape)"
   ]
  },
  {
   "cell_type": "code",
   "execution_count": 16,
   "id": "d8bbaa29",
   "metadata": {},
   "outputs": [
    {
     "name": "stdout",
     "output_type": "stream",
     "text": [
      "Original Array [ 10  20  30  40  50  60  70  80  90 100]\n",
      "Reshaped Array\n",
      " [[ 10  20  30  40  50]\n",
      " [ 60  70  80  90 100]]\n"
     ]
    }
   ],
   "source": [
    "#importing NumPy\n",
    "import numpy as np\n",
    "\n",
    "#Array Creation\n",
    "ar = np.array([10,20,30,40,50,60,70,80,90,100])\n",
    "print(\"Original Array\", ar)\n",
    "\n",
    "#Reshaping 1-D to 2-D\n",
    "ar_reshape = ar.reshape(2,5)\n",
    "print(\"Reshaped Array\\n\", ar_reshape)"
   ]
  },
  {
   "cell_type": "code",
   "execution_count": 17,
   "id": "898fe5e5",
   "metadata": {},
   "outputs": [
    {
     "name": "stdout",
     "output_type": "stream",
     "text": [
      "Original Array [ 1  2  3  4  5  6  7  8  9 10 11 12]\n",
      "Reshaped Array\n",
      " [[[ 1  2]\n",
      "  [ 3  4]]\n",
      "\n",
      " [[ 5  6]\n",
      "  [ 7  8]]\n",
      "\n",
      " [[ 9 10]\n",
      "  [11 12]]]\n"
     ]
    }
   ],
   "source": [
    "#importing NumPy\n",
    "import numpy as np\n",
    "\n",
    "#Array Creation\n",
    "ar = np.array([1,2,3,4,5,6,7,8,9,10,11,12])\n",
    "print(\"Original Array\", ar)\n",
    "\n",
    "#Reshaping 1-D to 3-D\n",
    "ar_reshape = ar.reshape(3,2,2)\n",
    "print(\"Reshaped Array\\n\", ar_reshape)"
   ]
  },
  {
   "cell_type": "code",
   "execution_count": 23,
   "id": "7201beaf",
   "metadata": {},
   "outputs": [
    {
     "name": "stdout",
     "output_type": "stream",
     "text": [
      "Original Array [10 20 30 40 50 60 70 80]\n"
     ]
    },
    {
     "ename": "ValueError",
     "evalue": "cannot reshape array of size 8 into shape (2,3)",
     "output_type": "error",
     "traceback": [
      "\u001b[1;31m---------------------------------------------------------------------------\u001b[0m",
      "\u001b[1;31mValueError\u001b[0m                                Traceback (most recent call last)",
      "\u001b[1;32m~\\AppData\\Local\\Temp\\ipykernel_8588\\1551908395.py\u001b[0m in \u001b[0;36m<module>\u001b[1;34m\u001b[0m\n\u001b[0;32m      7\u001b[0m \u001b[1;33m\u001b[0m\u001b[0m\n\u001b[0;32m      8\u001b[0m \u001b[1;31m#Reshaping 1-D to 2-D\u001b[0m\u001b[1;33m\u001b[0m\u001b[1;33m\u001b[0m\u001b[1;33m\u001b[0m\u001b[0m\n\u001b[1;32m----> 9\u001b[1;33m \u001b[0mar_reshape\u001b[0m \u001b[1;33m=\u001b[0m \u001b[0mar\u001b[0m\u001b[1;33m.\u001b[0m\u001b[0mreshape\u001b[0m\u001b[1;33m(\u001b[0m\u001b[1;36m2\u001b[0m\u001b[1;33m,\u001b[0m\u001b[1;36m3\u001b[0m\u001b[1;33m)\u001b[0m\u001b[1;33m\u001b[0m\u001b[1;33m\u001b[0m\u001b[0m\n\u001b[0m\u001b[0;32m     10\u001b[0m \u001b[0mprint\u001b[0m\u001b[1;33m(\u001b[0m\u001b[1;34m\"Reshaped Array\\n\"\u001b[0m\u001b[1;33m,\u001b[0m \u001b[0mar_reshape\u001b[0m\u001b[1;33m)\u001b[0m\u001b[1;33m\u001b[0m\u001b[1;33m\u001b[0m\u001b[0m\n",
      "\u001b[1;31mValueError\u001b[0m: cannot reshape array of size 8 into shape (2,3)"
     ]
    }
   ],
   "source": [
    "#importing NumPy\n",
    "import numpy as np\n",
    "\n",
    "#Array Creation\n",
    "ar = np.array([10,20,30,40,50,60,70,80])\n",
    "print(\"Original Array\", ar)\n",
    "\n",
    "#Reshaping 1-D to 2-D\n",
    "ar_reshape = ar.reshape(2,3)\n",
    "print(\"Reshaped Array\\n\", ar_reshape)"
   ]
  },
  {
   "cell_type": "markdown",
   "id": "fea7cd54",
   "metadata": {},
   "source": [
    "### 4.6 Array Join"
   ]
  },
  {
   "cell_type": "code",
   "execution_count": 2,
   "id": "f3dd2337",
   "metadata": {},
   "outputs": [
    {
     "name": "stdout",
     "output_type": "stream",
     "text": [
      "[10 20 30 40 50 60]\n"
     ]
    }
   ],
   "source": [
    "#importing NumPy\n",
    "import numpy as np\n",
    "\n",
    "#Array Creation\n",
    "ar1 = np.array([10,20,30])\n",
    "ar2 = np.array([40,50,60])\n",
    "\n",
    "#Joining two arrays\n",
    "ar = np.concatenate((ar1,ar2))\n",
    "print(ar)"
   ]
  },
  {
   "cell_type": "code",
   "execution_count": 5,
   "id": "d832a6ea",
   "metadata": {},
   "outputs": [
    {
     "name": "stdout",
     "output_type": "stream",
     "text": [
      "[[10 20]\n",
      " [30 40]\n",
      " [50 60]\n",
      " [70 80]]\n"
     ]
    }
   ],
   "source": [
    "#importing NumPy\n",
    "import numpy as np\n",
    "\n",
    "#Array Creation\n",
    "ar1 = np.array([[10,20],[30,40]])\n",
    "ar2 = np.array([[50,60],[70,80]])\n",
    "\n",
    "#Joining two 2-D arrays\n",
    "ar = np.concatenate((ar1,ar2))\n",
    "print(ar)"
   ]
  },
  {
   "cell_type": "markdown",
   "id": "3594753c",
   "metadata": {},
   "source": [
    "#### 4.6.1 Stacking"
   ]
  },
  {
   "cell_type": "code",
   "execution_count": 9,
   "id": "e0520952",
   "metadata": {},
   "outputs": [
    {
     "name": "stdout",
     "output_type": "stream",
     "text": [
      "[[10 20 30]\n",
      " [40 50 60]]\n"
     ]
    }
   ],
   "source": [
    "#importing NumPy\n",
    "import numpy as np\n",
    "\n",
    "#Array Creation\n",
    "ar1 = np.array([10,20,30])\n",
    "ar2 = np.array([40,50,60])\n",
    "\n",
    "#Stacking of ar1 and ar2\n",
    "ar = np.stack((ar1,ar2))\n",
    "print(ar)"
   ]
  },
  {
   "cell_type": "code",
   "execution_count": 10,
   "id": "2869df1f",
   "metadata": {},
   "outputs": [
    {
     "name": "stdout",
     "output_type": "stream",
     "text": [
      "[10 20 30 40 50 60]\n"
     ]
    }
   ],
   "source": [
    "#importing NumPy\n",
    "import numpy as np\n",
    "\n",
    "#Array Creation\n",
    "ar1 = np.array([10,20,30])\n",
    "ar2 = np.array([40,50,60])\n",
    "\n",
    "#Stacking of ar1 and ar2\n",
    "ar = np.hstack((ar1,ar2))\n",
    "print(ar)"
   ]
  },
  {
   "cell_type": "code",
   "execution_count": 11,
   "id": "dc866d19",
   "metadata": {},
   "outputs": [
    {
     "name": "stdout",
     "output_type": "stream",
     "text": [
      "[[10 20 30]\n",
      " [40 50 60]]\n"
     ]
    }
   ],
   "source": [
    "#importing NumPy\n",
    "import numpy as np\n",
    "\n",
    "#Array Creation\n",
    "ar1 = np.array([10,20,30])\n",
    "ar2 = np.array([40,50,60])\n",
    "\n",
    "#Stacking of ar1 and ar2\n",
    "ar = np.vstack((ar1,ar2))\n",
    "print(ar)"
   ]
  },
  {
   "cell_type": "code",
   "execution_count": 12,
   "id": "825b62d1",
   "metadata": {},
   "outputs": [
    {
     "name": "stdout",
     "output_type": "stream",
     "text": [
      "[[[10 40]\n",
      "  [20 50]\n",
      "  [30 60]]]\n"
     ]
    }
   ],
   "source": [
    "#importing NumPy\n",
    "import numpy as np\n",
    "\n",
    "#Array Creation\n",
    "ar1 = np.array([10,20,30])\n",
    "ar2 = np.array([40,50,60])\n",
    "\n",
    "#Stacking of ar1 and ar2\n",
    "ar = np.dstack((ar1,ar2))\n",
    "print(ar)"
   ]
  },
  {
   "cell_type": "markdown",
   "id": "81ef0e7c",
   "metadata": {},
   "source": [
    "### 4.7 Array Split"
   ]
  },
  {
   "cell_type": "code",
   "execution_count": 18,
   "id": "3ead01db",
   "metadata": {},
   "outputs": [
    {
     "name": "stdout",
     "output_type": "stream",
     "text": [
      "Original Array  [10 20 30 40 50 60 70 80]\n",
      "Splitted Array  [array([10, 20, 30]), array([40, 50, 60]), array([70, 80])]\n"
     ]
    }
   ],
   "source": [
    "#importing NumPy\n",
    "import numpy as np\n",
    "\n",
    "#Array Creation\n",
    "ar = np.array([10,20,30,40,50,60,70,80])\n",
    "print(\"Original Array \", ar)\n",
    "\n",
    "#Splitted Array\n",
    "ar1 = np.array_split(ar,3)\n",
    "print(\"Splitted Array \",ar1)"
   ]
  },
  {
   "cell_type": "code",
   "execution_count": 21,
   "id": "7434e373",
   "metadata": {},
   "outputs": [
    {
     "name": "stdout",
     "output_type": "stream",
     "text": [
      "Original Array \n",
      "  [[ 10  20]\n",
      " [ 30  40]\n",
      " [ 50  60]\n",
      " [ 70  80]\n",
      " [ 90 100]]\n",
      "Splitted Array \n",
      " [array([[10, 20],\n",
      "       [30, 40]]), array([[50, 60],\n",
      "       [70, 80]]), array([[ 90, 100]])]\n"
     ]
    }
   ],
   "source": [
    "#importing NumPy\n",
    "import numpy as np\n",
    "\n",
    "#Array Creation\n",
    "ar = np.array([[10,20],[30,40],[50,60],[70,80],[90,100]])\n",
    "print(\"Original Array \\n \", ar)\n",
    "\n",
    "#Split 2-D Array\n",
    "ar1 = np.array_split(ar,3)\n",
    "print(\"Splitted Array \\n\",ar1)"
   ]
  },
  {
   "cell_type": "code",
   "execution_count": 24,
   "id": "b548613a",
   "metadata": {},
   "outputs": [
    {
     "name": "stdout",
     "output_type": "stream",
     "text": [
      "Original Array \n",
      "  [[ 10  20]\n",
      " [ 30  40]\n",
      " [ 50  60]\n",
      " [ 70  80]\n",
      " [ 90 100]]\n",
      "Splitted Array \n",
      " [array([[10],\n",
      "       [30],\n",
      "       [50],\n",
      "       [70],\n",
      "       [90]]), array([[ 20],\n",
      "       [ 40],\n",
      "       [ 60],\n",
      "       [ 80],\n",
      "       [100]])]\n"
     ]
    }
   ],
   "source": [
    "#importing NumPy\n",
    "import numpy as np\n",
    "\n",
    "#Array Creation\n",
    "ar = np.array([[10,20],[30,40],[50,60],[70,80],[90,100]])\n",
    "print(\"Original Array \\n \", ar)\n",
    "\n",
    "#Split \n",
    "ar1 = np.hsplit(ar,2)\n",
    "print(\"Splitted Array \\n\",ar1)"
   ]
  },
  {
   "cell_type": "markdown",
   "id": "848e08ae",
   "metadata": {},
   "source": [
    "### 4.8 Array Search"
   ]
  },
  {
   "cell_type": "code",
   "execution_count": 31,
   "id": "0e267f24",
   "metadata": {},
   "outputs": [
    {
     "name": "stdout",
     "output_type": "stream",
     "text": [
      "(array([0, 2, 4, 6, 7], dtype=int64),)\n"
     ]
    }
   ],
   "source": [
    "#importing NumPy\n",
    "import numpy as np\n",
    "\n",
    "#Array Creation\n",
    "ar = np.array([10,20,10,50,10,80,10,10,20])\n",
    "ar1 = np.where(ar == 10)\n",
    "print(ar1)"
   ]
  },
  {
   "cell_type": "code",
   "execution_count": 32,
   "id": "31c67a20",
   "metadata": {},
   "outputs": [
    {
     "name": "stdout",
     "output_type": "stream",
     "text": [
      "(array([0, 1, 2, 3, 4, 5, 6, 7, 8], dtype=int64),)\n"
     ]
    }
   ],
   "source": [
    "#importing NumPy\n",
    "import numpy as np\n",
    "\n",
    "#Array Creation\n",
    "ar = np.array([10,20,10,50,10,80,10,10,20])\n",
    "ar1 = np.where(ar%2 == 0)\n",
    "print(ar1)"
   ]
  },
  {
   "cell_type": "markdown",
   "id": "7a1b9c02",
   "metadata": {},
   "source": [
    "### 4.9 Array Sort"
   ]
  },
  {
   "cell_type": "code",
   "execution_count": 4,
   "id": "5909cdd2",
   "metadata": {},
   "outputs": [
    {
     "name": "stdout",
     "output_type": "stream",
     "text": [
      "Original Array  [50 20 10 60 30 40]\n",
      "Sorted Array  [10 20 30 40 50 60]\n"
     ]
    }
   ],
   "source": [
    "#importing NumPy\n",
    "import numpy as np\n",
    "\n",
    "#Array Creation\n",
    "ar = np.array([50,20,10,60,30,40])\n",
    "print(\"Original Array \", ar)\n",
    "\n",
    "#Sorting\n",
    "print(\"Sorted Array \", np.sort(ar))"
   ]
  },
  {
   "cell_type": "code",
   "execution_count": 5,
   "id": "181681b8",
   "metadata": {},
   "outputs": [
    {
     "name": "stdout",
     "output_type": "stream",
     "text": [
      "Original Array  ['Maths' 'Calculus' 'Algebra' 'Geometry']\n",
      "Sorted Array  ['Algebra' 'Calculus' 'Geometry' 'Maths']\n"
     ]
    }
   ],
   "source": [
    "#importing NumPy\n",
    "import numpy as np\n",
    "\n",
    "#Array Creation\n",
    "ar = np.array(['Maths', 'Calculus','Algebra', 'Geometry'])\n",
    "print(\"Original Array \", ar)\n",
    "\n",
    "#Sorting\n",
    "print(\"Sorted Array \", np.sort(ar))"
   ]
  },
  {
   "cell_type": "code",
   "execution_count": 6,
   "id": "681eb245",
   "metadata": {},
   "outputs": [
    {
     "name": "stdout",
     "output_type": "stream",
     "text": [
      "Original Array:  [[ 3  1  5  2  4]\n",
      " [ 9  7  8 10  6]]\n",
      "Sorted Array  [[ 1  2  3  4  5]\n",
      " [ 6  7  8  9 10]]\n"
     ]
    }
   ],
   "source": [
    "#importing NumPy\n",
    "import numpy as np\n",
    "\n",
    "#2-D Array Creation\n",
    "ar = np.array([[3,1,5,2,4], [9,7,8,10,6]])\n",
    "print(\"Original Array: \", ar)\n",
    "\n",
    "#Sorting\n",
    "print(\"Sorted Array \", np.sort(ar))"
   ]
  }
 ],
 "metadata": {
  "kernelspec": {
   "display_name": "Python [conda env:my-rdkit-env] *",
   "language": "python",
   "name": "conda-env-my-rdkit-env-py"
  },
  "language_info": {
   "codemirror_mode": {
    "name": "ipython",
    "version": 3
   },
   "file_extension": ".py",
   "mimetype": "text/x-python",
   "name": "python",
   "nbconvert_exporter": "python",
   "pygments_lexer": "ipython3",
   "version": "3.7.13"
  }
 },
 "nbformat": 4,
 "nbformat_minor": 5
}
