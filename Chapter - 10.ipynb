{
 "cells": [
  {
   "cell_type": "markdown",
   "id": "8e9215d9",
   "metadata": {},
   "source": [
    "# Numerical Integration"
   ]
  },
  {
   "cell_type": "markdown",
   "id": "5cb95b8c",
   "metadata": {},
   "source": [
    "### 10.3 Trapezoidal Rule"
   ]
  },
  {
   "cell_type": "code",
   "execution_count": 1,
   "id": "03d7ad0a",
   "metadata": {},
   "outputs": [
    {
     "name": "stdout",
     "output_type": "stream",
     "text": [
      "Approximate integral using Trapezoidal Rule: 0.7837315284527475\n"
     ]
    }
   ],
   "source": [
    "#Function definition\n",
    "def trapezoidal_rule(f, a, b, h):\n",
    "    n = int((b - a) / h)  # Calculate the number of subintervals\n",
    "    integral = 0.5 * (f(a) + f(b))  # Add the endpoints of the interval\n",
    "    for i in range(1, n):\n",
    "        x = a + i * h  # Calculate the x value for each subinterval\n",
    "        integral += f(x)\n",
    "    integral *= h\n",
    "    return integral\n",
    "\n",
    "# Define the function f(x) = 1 / (1 + x^2)\n",
    "def f(x):\n",
    "    return 1 / (1 + x**2)\n",
    "\n",
    "# Define the interval [0, 1] and the step size (h)\n",
    "a = 0\n",
    "b = 1\n",
    "h = 0.2\n",
    "\n",
    "# Use the trapezoidal rule to approximate the integral\n",
    "approx_integral = trapezoidal_rule(f, a, b, h)\n",
    "\n",
    "print(\"Approximate integral using Trapezoidal Rule:\", approx_integral)"
   ]
  },
  {
   "cell_type": "markdown",
   "id": "b16c9b57",
   "metadata": {},
   "source": [
    "### 10.4 Simpson's One-Third Rule"
   ]
  },
  {
   "cell_type": "code",
   "execution_count": 3,
   "id": "5e906de9",
   "metadata": {},
   "outputs": [
    {
     "name": "stdout",
     "output_type": "stream",
     "text": [
      "Approximate integral using Simpson's 1/3 Rule: 1.95873016\n"
     ]
    }
   ],
   "source": [
    "#Function Definition\n",
    "def simpsons_one_third_rule(f, a, b, n):\n",
    "    h = (b - a) / n\n",
    "    integral = f(a) + f(b)\n",
    "    for i in range(1, n):\n",
    "        x = a + i * h\n",
    "        if i % 2 == 0:\n",
    "            integral += 2 * f(x)\n",
    "        else:\n",
    "            integral += 4 * f(x)\n",
    "    integral *= h / 3\n",
    "    return integral\n",
    "\n",
    "# Define the function f(x) = 1 / (1 + x)\n",
    "def f(x):\n",
    "    return 1 / (1 + x)\n",
    "\n",
    "# Define the interval [0, 6],number of subintervals (n) and h = 1\n",
    "a = 0\n",
    "b = 6\n",
    "h = 1\n",
    "n = int((b - a) / h)\n",
    "\n",
    "# Use Simpson's 1/3 Rule to approximate the integral\n",
    "Sim_integral = simpsons_one_third_rule(f, a, b, n)\n",
    "\n",
    "print(\"Approximate integral using Simpson's 1/3 Rule:\", round(Sim_integral,8))"
   ]
  },
  {
   "cell_type": "markdown",
   "id": "b85c1ed1",
   "metadata": {},
   "source": [
    "### 10.5 Simpson's Three-Eighth Rule "
   ]
  },
  {
   "cell_type": "code",
   "execution_count": 4,
   "id": "133fc978",
   "metadata": {},
   "outputs": [
    {
     "name": "stdout",
     "output_type": "stream",
     "text": [
      "Approximate integral using Simpson's 3/8 Rule: 1.96607143\n"
     ]
    }
   ],
   "source": [
    "def simpsons_three_eighth_rule(f, a, b, n):\n",
    "    h = (b - a) / n\n",
    "    integral = f(a) + f(b)\n",
    "    for i in range(1, n):\n",
    "        x = a + i * h\n",
    "        if i % 3 == 0:\n",
    "            integral += 2 * f(x)\n",
    "        else:\n",
    "            integral += 3 * f(x)\n",
    "    integral *= 3 * h / 8\n",
    "    return integral\n",
    "\n",
    "# Define the function f(x) = 1 / (1 + x)\n",
    "def f(x):\n",
    "    return 1 / (1 + x)\n",
    "\n",
    "# Define the interval [0, 6] and the number of subintervals (n) based on h = 1\n",
    "a = 0\n",
    "b = 6\n",
    "h = 1\n",
    "n = int((b - a) / h)\n",
    "\n",
    "# Use Simpson's 3/8 Rule to approximate the integral\n",
    "sim_integral = simpsons_three_eighth_rule(f, a, b, n)\n",
    "\n",
    "print(\"Approximate integral using Simpson's 3/8 Rule:\", round(sim_integral, 8))"
   ]
  },
  {
   "cell_type": "markdown",
   "id": "1a999ff4",
   "metadata": {},
   "source": [
    "### 10.6 Romberg's Method"
   ]
  },
  {
   "cell_type": "code",
   "execution_count": 5,
   "id": "054671ad",
   "metadata": {},
   "outputs": [
    {
     "name": "stdout",
     "output_type": "stream",
     "text": [
      "Approximate value of the integral I: 0.6931\n",
      "Approximate value of log 2 using the integral: 0.6931\n"
     ]
    }
   ],
   "source": [
    "import math\n",
    "\n",
    "#Function Definition\n",
    "def composite_trapezoidal(f, a, b, n):\n",
    "    h = (b - a) / n\n",
    "    integral = 0.5 * (f(a) + f(b))\n",
    "    for i in range(1, n):\n",
    "        x = a + i * h\n",
    "        integral += f(x)\n",
    "    integral *= h\n",
    "    return integral\n",
    "\n",
    "def rombergs_method(f, a, b, n_max):\n",
    "    R = [[0] * (n_max + 1) for _ in range(n_max + 1)]\n",
    "    for i in range(1, n_max + 1):\n",
    "        R[i][1] = composite_trapezoidal(f, a, b, 2**(i-1))\n",
    "        for j in range(2, i + 1):\n",
    "            R[i][j] = (4**(j-1) * R[i][j-1] - R[i-1][j-1]) / (4**(j-1) - 1)\n",
    "    return R[n_max][n_max]\n",
    "\n",
    "# Define the function f(x) = 1 / (1 + x)\n",
    "def f(x):\n",
    "    return 1 / (1 + x)\n",
    "\n",
    "# Define the interval [0, 1] and the maximum number of iterations\n",
    "a = 0\n",
    "b = 1\n",
    "n_max = 5  # Increase this value for more accurate results\n",
    "\n",
    "# Use Romberg's method to approximate the integral\n",
    "approx_integral = rombergs_method(f, a, b, n_max)\n",
    "\n",
    "# Evaluate the natural logarithm of 2\n",
    "log_2 = math.log(2)\n",
    "\n",
    "print(\"Approximate value of the integral I:\", round(approx_integral, 4))\n",
    "print(\"Approximate value of log 2 using the integral:\", round(log_2, 4))"
   ]
  }
 ],
 "metadata": {
  "kernelspec": {
   "display_name": "Python [conda env:my-rdkit-env] *",
   "language": "python",
   "name": "conda-env-my-rdkit-env-py"
  },
  "language_info": {
   "codemirror_mode": {
    "name": "ipython",
    "version": 3
   },
   "file_extension": ".py",
   "mimetype": "text/x-python",
   "name": "python",
   "nbconvert_exporter": "python",
   "pygments_lexer": "ipython3",
   "version": "3.7.13"
  }
 },
 "nbformat": 4,
 "nbformat_minor": 5
}
