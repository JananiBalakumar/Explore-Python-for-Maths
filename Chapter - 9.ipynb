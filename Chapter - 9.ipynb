{
 "cells": [
  {
   "cell_type": "markdown",
   "id": "7dc07391",
   "metadata": {},
   "source": [
    "# Interpolation and Approximation"
   ]
  },
  {
   "cell_type": "markdown",
   "id": "261d9cdd",
   "metadata": {},
   "source": [
    "### 9.2 Lagrangian Interpolation"
   ]
  },
  {
   "cell_type": "code",
   "execution_count": 1,
   "id": "23bfab90",
   "metadata": {},
   "outputs": [
    {
     "name": "stdout",
     "output_type": "stream",
     "text": [
      "Interpolated value at x = 10: 14.666666666666666\n"
     ]
    }
   ],
   "source": [
    "#Function Definition\n",
    "def lagrange_interpolation(x_values, y_values, x):\n",
    "    n = len(x_values)\n",
    "    result = 0.0\n",
    "\n",
    "    for i in range(n):\n",
    "        term = y_values[i]\n",
    "        for j in range(n):\n",
    "            if j != i:\n",
    "                term *= (x - x_values[j]) / (x_values[i] - x_values[j])\n",
    "        result += term\n",
    "    return result\n",
    "\n",
    "# Given data points\n",
    "x_values = [5, 6, 9, 11]\n",
    "y_values = [12, 13, 14, 16]\n",
    "\n",
    "# Value to interpolate\n",
    "x_interpolate = 10\n",
    "i_value = lagrange_interpolation(x_values, y_values, x_interpolate)\n",
    "\n",
    "print(f\"Interpolated value at x = {x_interpolate}: {i_value}\")"
   ]
  },
  {
   "cell_type": "markdown",
   "id": "7f1efdcb",
   "metadata": {},
   "source": [
    "### 9.3 Divided Difference"
   ]
  },
  {
   "cell_type": "code",
   "execution_count": 3,
   "id": "7df2a603",
   "metadata": {},
   "outputs": [
    {
     "name": "stdout",
     "output_type": "stream",
     "text": [
      "3rd Order Divided Difference: 1.0\n"
     ]
    }
   ],
   "source": [
    "#Function Definition\n",
    "def divided_difference(x, y):\n",
    "    n = len(x)\n",
    "    divided_diff_table = [[0] * n for _ in range(n)]\n",
    "    for i in range(n):\n",
    "        divided_diff_table[i][0] = y[i]\n",
    "\n",
    "    for j in range(1, n):\n",
    "        for i in range(n - j):\n",
    "            divided_diff_table[i][j] = (divided_diff_table[i + 1][j - 1] - divided_diff_table[i][j - 1]) / (x[i + j] - x[i])\n",
    "    return divided_diff_table\n",
    "\n",
    "# Given data points\n",
    "x_values = [2, 4, 9, 10]\n",
    "y_values = [x**3 - 2*x for x in x_values]\n",
    "\n",
    "# Calculate the divided differences table\n",
    "divided_diff_table = divided_difference(x_values, y_values)\n",
    "\n",
    "# Extract the 3rd order divided difference\n",
    "third_order_divided_difference = divided_diff_table[0][3]\n",
    "\n",
    "print(\"3rd Order Divided Difference:\", third_order_divided_difference)"
   ]
  },
  {
   "cell_type": "markdown",
   "id": "eab5fc61",
   "metadata": {},
   "source": [
    "### 9.4 Newton Forward Difference"
   ]
  },
  {
   "cell_type": "code",
   "execution_count": 4,
   "id": "092b6eec",
   "metadata": {},
   "outputs": [
    {
     "name": "stdout",
     "output_type": "stream",
     "text": [
      "Using Forward Difference Formula:\n",
      "First derivative at x = 50: 0.02440\n",
      "Second derivative at x = 50: -0.00030\n"
     ]
    }
   ],
   "source": [
    "# Given data points\n",
    "x_values = [50, 51, 52, 53, 54, 55, 56]\n",
    "y_values = [3.6840, 3.7084, 3.7325, 3.7563, 3.7798, 3.8030, 3.8259]\n",
    "\n",
    "# Calculate the step size (h)\n",
    "h = x_values[1] - x_values[0]\n",
    "\n",
    "# Calculate the differences\n",
    "delta_y_0 = y_values[1] - y_values[0]\n",
    "delta_square_y_0 = y_values[2] - 2 * y_values[1] + y_values[0]\n",
    "\n",
    "# Calculate the first derivative at x = 50 using the forward formula\n",
    "forward_x_50_1 = (1 / h) * delta_y_0\n",
    "\n",
    "# Calculate the second derivative at x = 50 using the forward formula\n",
    "forward_x_50_2 = (1 / h ** 2) * delta_square_y_0\n",
    "\n",
    "print(\"Using Forward Difference Formula:\")\n",
    "print(f\"First derivative at x = 50: {forward_x_50_1:.5f}\")\n",
    "print(f\"Second derivative at x = 50: {forward_x_50_2:.5f}\")"
   ]
  },
  {
   "cell_type": "markdown",
   "id": "6969ef72",
   "metadata": {},
   "source": [
    "### 9.5 Newton Backward Difference"
   ]
  },
  {
   "cell_type": "code",
   "execution_count": 5,
   "id": "da13edcb",
   "metadata": {},
   "outputs": [
    {
     "name": "stdout",
     "output_type": "stream",
     "text": [
      "Using Backward Difference Formula:\n",
      "First derivative at x = 56: 0.02290\n",
      "Second derivative at x = 56: -0.00030\n"
     ]
    }
   ],
   "source": [
    "# Given data points\n",
    "x_values = [50, 51, 52, 53, 54, 55, 56]\n",
    "y_values = [3.6840, 3.7084, 3.7325, 3.7563, 3.7798, 3.8030, 3.8259]\n",
    "\n",
    "# Calculate the step size (h)\n",
    "h = x_values[1] - x_values[0]\n",
    "\n",
    "# Calculate the differences\n",
    "del_y_6 = y_values[6] - y_values[5]\n",
    "del_square_y_6 = y_values[6] - 2 * y_values[5] + y_values[4]\n",
    "\n",
    "# Calculate the first derivative at x = 56 using the backward formula\n",
    "backward_x_1 = (1 / h) * del_y_6\n",
    "\n",
    "# Calculate the second derivative at x = 56 using the backward formula\n",
    "backward_x_2 = (1 / h ** 2) * del_square_y_6\n",
    "\n",
    "print(\"Using Backward Difference Formula:\")\n",
    "print(f\"First derivative at x = 56: {backward_x_1:.5f}\")\n",
    "print(f\"Second derivative at x = 56: {backward_x_2:.5f}\")"
   ]
  }
 ],
 "metadata": {
  "kernelspec": {
   "display_name": "Python [conda env:my-rdkit-env] *",
   "language": "python",
   "name": "conda-env-my-rdkit-env-py"
  },
  "language_info": {
   "codemirror_mode": {
    "name": "ipython",
    "version": 3
   },
   "file_extension": ".py",
   "mimetype": "text/x-python",
   "name": "python",
   "nbconvert_exporter": "python",
   "pygments_lexer": "ipython3",
   "version": "3.7.13"
  }
 },
 "nbformat": 4,
 "nbformat_minor": 5
}
