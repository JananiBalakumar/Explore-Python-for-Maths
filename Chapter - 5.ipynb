{
 "cells": [
  {
   "cell_type": "markdown",
   "id": "21a56cc0",
   "metadata": {},
   "source": [
    "#  Matrices"
   ]
  },
  {
   "cell_type": "markdown",
   "id": "54e2411b",
   "metadata": {},
   "source": [
    "## 5.2 Creating a matrix "
   ]
  },
  {
   "cell_type": "code",
   "execution_count": 1,
   "id": "dc65c76f",
   "metadata": {},
   "outputs": [
    {
     "name": "stdout",
     "output_type": "stream",
     "text": [
      "[[1, 2, 3], [4, 5, 6], [7, 8, 9]]\n"
     ]
    }
   ],
   "source": [
    "m1 = [[1,2,3], [4,5,6], [7,8,9]]\n",
    "print(m1)"
   ]
  },
  {
   "cell_type": "code",
   "execution_count": 2,
   "id": "99ef6600",
   "metadata": {},
   "outputs": [],
   "source": [
    "#importing numpy package\n",
    "import numpy as np\n",
    "import pandas as pd"
   ]
  },
  {
   "cell_type": "code",
   "execution_count": 3,
   "id": "fb6e66c5",
   "metadata": {},
   "outputs": [
    {
     "data": {
      "text/plain": [
       "array([[1, 2, 3],\n",
       "       [4, 5, 6],\n",
       "       [7, 8, 9]])"
      ]
     },
     "execution_count": 3,
     "metadata": {},
     "output_type": "execute_result"
    }
   ],
   "source": [
    "np.array(m1)"
   ]
  },
  {
   "cell_type": "code",
   "execution_count": 4,
   "id": "eb6322de",
   "metadata": {},
   "outputs": [
    {
     "data": {
      "text/plain": [
       "array([[ 1, -1],\n",
       "       [ 2, -2],\n",
       "       [ 3, -3]])"
      ]
     },
     "execution_count": 4,
     "metadata": {},
     "output_type": "execute_result"
    }
   ],
   "source": [
    "#creating a matrix\n",
    "m2 = np.array([[1,-1], [2,-2], [3,-3]])\n",
    "m2"
   ]
  },
  {
   "cell_type": "code",
   "execution_count": 5,
   "id": "a4d3044b",
   "metadata": {},
   "outputs": [
    {
     "data": {
      "text/plain": [
       "array([[ 1,  2,  3],\n",
       "       [-1, -2, -3]])"
      ]
     },
     "execution_count": 5,
     "metadata": {},
     "output_type": "execute_result"
    }
   ],
   "source": [
    "## transposing the matrix\n",
    "np.transpose(m2)"
   ]
  },
  {
   "cell_type": "markdown",
   "id": "d5c08e4e",
   "metadata": {},
   "source": [
    "#### 5.2.1 Matrix with zeros and ones"
   ]
  },
  {
   "cell_type": "code",
   "execution_count": 6,
   "id": "f9e7431c",
   "metadata": {},
   "outputs": [
    {
     "data": {
      "text/plain": [
       "array([[0., 0., 0.],\n",
       "       [0., 0., 0.]])"
      ]
     },
     "execution_count": 6,
     "metadata": {},
     "output_type": "execute_result"
    }
   ],
   "source": [
    "#creating matrix with zeroes\n",
    "np.zeros((2,3))"
   ]
  },
  {
   "cell_type": "code",
   "execution_count": 7,
   "id": "aa4ee1e6",
   "metadata": {},
   "outputs": [
    {
     "data": {
      "text/plain": [
       "array([[1., 1., 1.],\n",
       "       [1., 1., 1.],\n",
       "       [1., 1., 1.]])"
      ]
     },
     "execution_count": 7,
     "metadata": {},
     "output_type": "execute_result"
    }
   ],
   "source": [
    "#creating a matrix with ones\n",
    "np.ones((3,3))"
   ]
  },
  {
   "cell_type": "markdown",
   "id": "33d40445",
   "metadata": {},
   "source": [
    "#### 5.2.2 Identity Matrix"
   ]
  },
  {
   "cell_type": "code",
   "execution_count": 8,
   "id": "cb47e9f6",
   "metadata": {},
   "outputs": [
    {
     "data": {
      "text/plain": [
       "array([[1., 0., 0., 0.],\n",
       "       [0., 1., 0., 0.],\n",
       "       [0., 0., 1., 0.],\n",
       "       [0., 0., 0., 1.]])"
      ]
     },
     "execution_count": 8,
     "metadata": {},
     "output_type": "execute_result"
    }
   ],
   "source": [
    "#creating an identity matrix\n",
    "np.eye((4))"
   ]
  },
  {
   "cell_type": "markdown",
   "id": "434f3e5d",
   "metadata": {},
   "source": [
    "#### 5.2.3 Random number matrix"
   ]
  },
  {
   "cell_type": "code",
   "execution_count": 9,
   "id": "1e8fae1d",
   "metadata": {},
   "outputs": [
    {
     "data": {
      "text/plain": [
       "array([[0.60928892, 0.01641405, 0.26208112],\n",
       "       [0.58377916, 0.20832604, 0.16670959],\n",
       "       [0.74243909, 0.87680005, 0.87829378]])"
      ]
     },
     "execution_count": 9,
     "metadata": {},
     "output_type": "execute_result"
    }
   ],
   "source": [
    "np.random.rand(3,3)"
   ]
  },
  {
   "cell_type": "code",
   "execution_count": 10,
   "id": "e6cb571b",
   "metadata": {},
   "outputs": [
    {
     "data": {
      "text/plain": [
       "array([[ 0.68934145, -1.66315914, -0.52739598],\n",
       "       [ 0.47940629, -1.44007005, -1.29398803],\n",
       "       [-0.1719405 , -1.23272605,  0.55883959]])"
      ]
     },
     "execution_count": 10,
     "metadata": {},
     "output_type": "execute_result"
    }
   ],
   "source": [
    "np.random.randn(3,3)"
   ]
  },
  {
   "cell_type": "markdown",
   "id": "34321bc5",
   "metadata": {},
   "source": [
    "#### 5.2.4 Random integer matrix"
   ]
  },
  {
   "cell_type": "code",
   "execution_count": 4,
   "id": "5bfea963",
   "metadata": {},
   "outputs": [
    {
     "data": {
      "text/plain": [
       "array([18, 41,  6, 44, 28,  7, 39,  5,  3,  9])"
      ]
     },
     "execution_count": 4,
     "metadata": {},
     "output_type": "execute_result"
    }
   ],
   "source": [
    "ranarr = np.random.randint(0,50,10)\n",
    "ranarr"
   ]
  },
  {
   "cell_type": "code",
   "execution_count": 5,
   "id": "b90e898c",
   "metadata": {},
   "outputs": [
    {
     "data": {
      "text/plain": [
       "array([[14, 31, 38, 35, 25],\n",
       "       [ 1,  4,  7, 14, 44]])"
      ]
     },
     "execution_count": 5,
     "metadata": {},
     "output_type": "execute_result"
    }
   ],
   "source": [
    "ranarr = np.random.randint(0,50,10)\n",
    "ranarr.reshape(2,5)"
   ]
  },
  {
   "cell_type": "markdown",
   "id": "c55dd001",
   "metadata": {},
   "source": [
    "### 5.3 Accessing matrices"
   ]
  },
  {
   "cell_type": "code",
   "execution_count": 12,
   "id": "4359c56e",
   "metadata": {},
   "outputs": [
    {
     "data": {
      "text/plain": [
       "array([[ 5, 10, 15],\n",
       "       [20, 25, 30],\n",
       "       [35, 40, 45]])"
      ]
     },
     "execution_count": 12,
     "metadata": {},
     "output_type": "execute_result"
    }
   ],
   "source": [
    "mat = np.array(([5,10,15],[20,25,30],[35,40,45]))\n",
    "mat"
   ]
  },
  {
   "cell_type": "code",
   "execution_count": 14,
   "id": "68337d98",
   "metadata": {},
   "outputs": [
    {
     "data": {
      "text/plain": [
       "array([20, 25, 30])"
      ]
     },
     "execution_count": 14,
     "metadata": {},
     "output_type": "execute_result"
    }
   ],
   "source": [
    "#grabbing second row\n",
    "mat[1]"
   ]
  },
  {
   "cell_type": "code",
   "execution_count": 15,
   "id": "bafbe985",
   "metadata": {},
   "outputs": [
    {
     "data": {
      "text/plain": [
       "30"
      ]
     },
     "execution_count": 15,
     "metadata": {},
     "output_type": "execute_result"
    }
   ],
   "source": [
    "#grabbing second row third element\n",
    "mat[1][2]"
   ]
  },
  {
   "cell_type": "code",
   "execution_count": 16,
   "id": "63d3ef2b",
   "metadata": {},
   "outputs": [
    {
     "data": {
      "text/plain": [
       "array([[10, 15],\n",
       "       [25, 30]])"
      ]
     },
     "execution_count": 16,
     "metadata": {},
     "output_type": "execute_result"
    }
   ],
   "source": [
    "# 2D array slicing\n",
    "\n",
    "#select everything except 3rd element from 1st and 2nd column\n",
    "mat[:2,1:]"
   ]
  },
  {
   "cell_type": "code",
   "execution_count": 17,
   "id": "1b5946d8",
   "metadata": {},
   "outputs": [
    {
     "data": {
      "text/plain": [
       "array([35, 40, 45])"
      ]
     },
     "execution_count": 17,
     "metadata": {},
     "output_type": "execute_result"
    }
   ],
   "source": [
    "#select bottom row of the matrix\n",
    "mat[2,:]"
   ]
  },
  {
   "cell_type": "code",
   "execution_count": 18,
   "id": "7228ceaf",
   "metadata": {},
   "outputs": [
    {
     "data": {
      "text/plain": [
       "array([10, 25])"
      ]
     },
     "execution_count": 18,
     "metadata": {},
     "output_type": "execute_result"
    }
   ],
   "source": [
    "#selecting everything except third item from the second row\n",
    "mat[:2,1 ]"
   ]
  },
  {
   "cell_type": "markdown",
   "id": "b71ce539",
   "metadata": {},
   "source": [
    "### 5.4 Matrix Manipulation"
   ]
  },
  {
   "cell_type": "markdown",
   "id": "30cc2344",
   "metadata": {},
   "source": [
    "#### 5.4.1 Addition"
   ]
  },
  {
   "cell_type": "code",
   "execution_count": 19,
   "id": "4baeafc2",
   "metadata": {},
   "outputs": [],
   "source": [
    "a = np.array(([1,3,5],[7,9,11]))\n",
    "b = np.array(([2,4,6],[8,10,12]))"
   ]
  },
  {
   "cell_type": "code",
   "execution_count": 20,
   "id": "7454c0b5",
   "metadata": {},
   "outputs": [
    {
     "data": {
      "text/plain": [
       "array([[ 3,  7, 11],\n",
       "       [15, 19, 23]])"
      ]
     },
     "execution_count": 20,
     "metadata": {},
     "output_type": "execute_result"
    }
   ],
   "source": [
    "np.add(a,b)"
   ]
  },
  {
   "cell_type": "markdown",
   "id": "26fe2c16",
   "metadata": {},
   "source": [
    "#### 5.4.2 Subtraction"
   ]
  },
  {
   "cell_type": "code",
   "execution_count": 21,
   "id": "6a92605f",
   "metadata": {},
   "outputs": [],
   "source": [
    "a = np.array(([1,3,5],[7,9,11]))\n",
    "b = np.array(([2,4,6],[8,10,12]))"
   ]
  },
  {
   "cell_type": "code",
   "execution_count": 22,
   "id": "9b263f8c",
   "metadata": {},
   "outputs": [
    {
     "data": {
      "text/plain": [
       "array([[-1, -1, -1],\n",
       "       [-1, -1, -1]])"
      ]
     },
     "execution_count": 22,
     "metadata": {},
     "output_type": "execute_result"
    }
   ],
   "source": [
    "np.subtract(a,b)"
   ]
  },
  {
   "cell_type": "code",
   "execution_count": 7,
   "id": "a2514d25",
   "metadata": {},
   "outputs": [],
   "source": [
    "a = np.array(([1,2],[3,4]))\n",
    "b = np.array(([5,6],[7,8]))"
   ]
  },
  {
   "cell_type": "code",
   "execution_count": 8,
   "id": "bb5e2ce7",
   "metadata": {},
   "outputs": [
    {
     "data": {
      "text/plain": [
       "array([[19, 22],\n",
       "       [43, 50]])"
      ]
     },
     "execution_count": 8,
     "metadata": {},
     "output_type": "execute_result"
    }
   ],
   "source": [
    "np.dot(a,b)"
   ]
  },
  {
   "cell_type": "code",
   "execution_count": 11,
   "id": "f7faab21",
   "metadata": {},
   "outputs": [],
   "source": [
    "matrix1 = np.array([[1, 2, 3], [4, 5, 6]])\n",
    "matrix2 = np.array([[7, 8], [9,10], [11,12]])"
   ]
  },
  {
   "cell_type": "code",
   "execution_count": 12,
   "id": "279afcc7",
   "metadata": {},
   "outputs": [
    {
     "data": {
      "text/plain": [
       "array([[ 58,  64],\n",
       "       [139, 154]])"
      ]
     },
     "execution_count": 12,
     "metadata": {},
     "output_type": "execute_result"
    }
   ],
   "source": [
    "np.dot(matrix1,matrix2)"
   ]
  },
  {
   "cell_type": "markdown",
   "id": "b8f00717",
   "metadata": {},
   "source": [
    "### 5.5 Matrix deletion"
   ]
  },
  {
   "cell_type": "code",
   "execution_count": 13,
   "id": "3d8078ef",
   "metadata": {},
   "outputs": [
    {
     "data": {
      "text/plain": [
       "array([[ 5, 10, 15],\n",
       "       [20, 25, 30],\n",
       "       [35, 40, 45]])"
      ]
     },
     "execution_count": 13,
     "metadata": {},
     "output_type": "execute_result"
    }
   ],
   "source": [
    "mat = np.array(([5,10,15],[20,25,30],[35,40,45]))\n",
    "mat"
   ]
  },
  {
   "cell_type": "code",
   "execution_count": 14,
   "id": "c45d3f37",
   "metadata": {},
   "outputs": [
    {
     "data": {
      "text/plain": [
       "array([[ 5, 10, 15],\n",
       "       [35, 40, 45]])"
      ]
     },
     "execution_count": 14,
     "metadata": {},
     "output_type": "execute_result"
    }
   ],
   "source": [
    "np.delete(mat,[1],0)"
   ]
  },
  {
   "cell_type": "code",
   "execution_count": 15,
   "id": "55044677",
   "metadata": {},
   "outputs": [
    {
     "data": {
      "text/plain": [
       "array([[ 5, 10, 15],\n",
       "       [20, 25, 30],\n",
       "       [35, 40, 45]])"
      ]
     },
     "execution_count": 15,
     "metadata": {},
     "output_type": "execute_result"
    }
   ],
   "source": [
    "mat = np.array(([5,10,15],[20,25,30],[35,40,45]))\n",
    "mat"
   ]
  },
  {
   "cell_type": "code",
   "execution_count": 16,
   "id": "2f4d58cb",
   "metadata": {},
   "outputs": [
    {
     "data": {
      "text/plain": [
       "array([[ 5, 15],\n",
       "       [20, 30],\n",
       "       [35, 45]])"
      ]
     },
     "execution_count": 16,
     "metadata": {},
     "output_type": "execute_result"
    }
   ],
   "source": [
    "np.delete(mat,[1],1)"
   ]
  }
 ],
 "metadata": {
  "kernelspec": {
   "display_name": "Python 3 (ipykernel)",
   "language": "python",
   "name": "python3"
  },
  "language_info": {
   "codemirror_mode": {
    "name": "ipython",
    "version": 3
   },
   "file_extension": ".py",
   "mimetype": "text/x-python",
   "name": "python",
   "nbconvert_exporter": "python",
   "pygments_lexer": "ipython3",
   "version": "3.7.13"
  }
 },
 "nbformat": 4,
 "nbformat_minor": 5
}
