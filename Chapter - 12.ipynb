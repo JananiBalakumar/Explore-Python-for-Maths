{
 "cells": [
  {
   "cell_type": "markdown",
   "id": "6ad5b07e",
   "metadata": {},
   "source": [
    "#  Set Theory"
   ]
  },
  {
   "cell_type": "code",
   "execution_count": 3,
   "id": "2e033862",
   "metadata": {},
   "outputs": [],
   "source": [
    "import pandas as pd\n",
    "import numpy as np\n",
    "import seaborn as sns\n",
    "import matplotlib.pyplot as plt\n",
    "%matplotlib inline"
   ]
  },
  {
   "cell_type": "markdown",
   "id": "c449e082",
   "metadata": {},
   "source": [
    "### 12.2Creating a set"
   ]
  },
  {
   "cell_type": "markdown",
   "id": "f27bb6b2",
   "metadata": {},
   "source": [
    "### Method 1"
   ]
  },
  {
   "cell_type": "code",
   "execution_count": 4,
   "id": "be575126",
   "metadata": {},
   "outputs": [
    {
     "data": {
      "text/plain": [
       "set"
      ]
     },
     "execution_count": 4,
     "metadata": {},
     "output_type": "execute_result"
    }
   ],
   "source": [
    "geometric_shapes = set(['Square', 'Rectangle', 'Triangle', 'Hexagon', 'Octagon'])\n",
    "type(geometric_shapes)"
   ]
  },
  {
   "cell_type": "code",
   "execution_count": 5,
   "id": "8e3e4864",
   "metadata": {},
   "outputs": [
    {
     "data": {
      "text/plain": [
       "{'Hexagon', 'Octagon', 'Rectangle', 'Square', 'Triangle'}"
      ]
     },
     "execution_count": 5,
     "metadata": {},
     "output_type": "execute_result"
    }
   ],
   "source": [
    "geometric_shapes"
   ]
  },
  {
   "cell_type": "markdown",
   "id": "69eb95a9",
   "metadata": {},
   "source": [
    "### Method 2"
   ]
  },
  {
   "cell_type": "code",
   "execution_count": 6,
   "id": "17403e66",
   "metadata": {},
   "outputs": [
    {
     "data": {
      "text/plain": [
       "set"
      ]
     },
     "execution_count": 6,
     "metadata": {},
     "output_type": "execute_result"
    }
   ],
   "source": [
    "even_nums = {2, 4,6,8,10}\n",
    "type(even_nums)"
   ]
  },
  {
   "cell_type": "code",
   "execution_count": 7,
   "id": "e5f040eb",
   "metadata": {},
   "outputs": [
    {
     "data": {
      "text/plain": [
       "{2, 4, 6, 8, 10}"
      ]
     },
     "execution_count": 7,
     "metadata": {},
     "output_type": "execute_result"
    }
   ],
   "source": [
    "even_nums"
   ]
  },
  {
   "cell_type": "markdown",
   "id": "9f99a3fb",
   "metadata": {},
   "source": [
    "### 12.3 Adding and updating the sets"
   ]
  },
  {
   "cell_type": "code",
   "execution_count": 8,
   "id": "c9e17f32",
   "metadata": {},
   "outputs": [
    {
     "data": {
      "text/plain": [
       "{'Hexagon', 'Octagon', 'Pentagon', 'Rectangle', 'Square', 'Triangle'}"
      ]
     },
     "execution_count": 8,
     "metadata": {},
     "output_type": "execute_result"
    }
   ],
   "source": [
    "geometric_shapes.add('Pentagon')\n",
    "geometric_shapes"
   ]
  },
  {
   "cell_type": "markdown",
   "id": "5761ff68",
   "metadata": {},
   "source": [
    "###### Adding 2 sets together"
   ]
  },
  {
   "cell_type": "code",
   "execution_count": 9,
   "id": "a2731d95",
   "metadata": {},
   "outputs": [
    {
     "data": {
      "text/plain": [
       "{10,\n",
       " 2,\n",
       " 4,\n",
       " 6,\n",
       " 8,\n",
       " 'Hexagon',\n",
       " 'Octagon',\n",
       " 'Pentagon',\n",
       " 'Rectangle',\n",
       " 'Square',\n",
       " 'Triangle'}"
      ]
     },
     "execution_count": 9,
     "metadata": {},
     "output_type": "execute_result"
    }
   ],
   "source": [
    "geometric_shapes.update(even_nums)\n",
    "geometric_shapes"
   ]
  },
  {
   "cell_type": "markdown",
   "id": "777d4b93",
   "metadata": {},
   "source": [
    "###### Adding a list to a set"
   ]
  },
  {
   "cell_type": "code",
   "execution_count": 10,
   "id": "189b5e7f",
   "metadata": {},
   "outputs": [
    {
     "data": {
      "text/plain": [
       "{2, 2.7, 3.14, 4, 6, 8, 10}"
      ]
     },
     "execution_count": 10,
     "metadata": {},
     "output_type": "execute_result"
    }
   ],
   "source": [
    "constants = [3.14, 2.7]\n",
    "even_nums.update(constants)\n",
    "even_nums"
   ]
  },
  {
   "cell_type": "markdown",
   "id": "995bbfb3",
   "metadata": {},
   "source": [
    "### 12.4  Removing items in the set"
   ]
  },
  {
   "cell_type": "markdown",
   "id": "c1fe5be3",
   "metadata": {},
   "source": [
    "###### Remove and Discard methods"
   ]
  },
  {
   "cell_type": "code",
   "execution_count": 39,
   "id": "997dc550",
   "metadata": {},
   "outputs": [
    {
     "data": {
      "text/plain": [
       "{2, 2.7, 4, 6, 8, 10}"
      ]
     },
     "execution_count": 39,
     "metadata": {},
     "output_type": "execute_result"
    }
   ],
   "source": [
    "even_nums.remove(3.14)\n",
    "even_nums"
   ]
  },
  {
   "cell_type": "code",
   "execution_count": 40,
   "id": "eea3289a",
   "metadata": {},
   "outputs": [
    {
     "ename": "KeyError",
     "evalue": "3.14",
     "output_type": "error",
     "traceback": [
      "\u001b[1;31m---------------------------------------------------------------------------\u001b[0m",
      "\u001b[1;31mKeyError\u001b[0m                                  Traceback (most recent call last)",
      "\u001b[1;32m~\\AppData\\Local\\Temp\\ipykernel_10052\\4176258387.py\u001b[0m in \u001b[0;36m<module>\u001b[1;34m\u001b[0m\n\u001b[1;32m----> 1\u001b[1;33m \u001b[0meven_nums\u001b[0m\u001b[1;33m.\u001b[0m\u001b[0mremove\u001b[0m\u001b[1;33m(\u001b[0m\u001b[1;36m3.14\u001b[0m\u001b[1;33m)\u001b[0m\u001b[1;33m\u001b[0m\u001b[1;33m\u001b[0m\u001b[0m\n\u001b[0m",
      "\u001b[1;31mKeyError\u001b[0m: 3.14"
     ]
    }
   ],
   "source": [
    "even_nums.remove(3.14)"
   ]
  },
  {
   "cell_type": "code",
   "execution_count": 11,
   "id": "047be25a",
   "metadata": {},
   "outputs": [
    {
     "data": {
      "text/plain": [
       "{2, 3.14, 4, 6, 8, 10}"
      ]
     },
     "execution_count": 11,
     "metadata": {},
     "output_type": "execute_result"
    }
   ],
   "source": [
    "even_nums.discard(2.7)\n",
    "even_nums"
   ]
  },
  {
   "cell_type": "code",
   "execution_count": 12,
   "id": "99771644",
   "metadata": {},
   "outputs": [],
   "source": [
    "even_nums.discard(2.7)"
   ]
  },
  {
   "cell_type": "markdown",
   "id": "9fa87fb5",
   "metadata": {},
   "source": [
    "### pop method"
   ]
  },
  {
   "cell_type": "code",
   "execution_count": 13,
   "id": "ed7d3616",
   "metadata": {},
   "outputs": [
    {
     "data": {
      "text/plain": [
       "{3.14, 4, 6, 8, 10}"
      ]
     },
     "execution_count": 13,
     "metadata": {},
     "output_type": "execute_result"
    }
   ],
   "source": [
    "even_nums.pop()\n",
    "even_nums"
   ]
  },
  {
   "cell_type": "markdown",
   "id": "4eede62e",
   "metadata": {},
   "source": [
    "### Delete sets"
   ]
  },
  {
   "cell_type": "code",
   "execution_count": 14,
   "id": "2f87acae",
   "metadata": {},
   "outputs": [
    {
     "ename": "NameError",
     "evalue": "name 'geometric_shapes' is not defined",
     "output_type": "error",
     "traceback": [
      "\u001b[1;31m---------------------------------------------------------------------------\u001b[0m",
      "\u001b[1;31mNameError\u001b[0m                                 Traceback (most recent call last)",
      "\u001b[1;32m~\\AppData\\Local\\Temp\\ipykernel_19844\\2910572960.py\u001b[0m in \u001b[0;36m<module>\u001b[1;34m\u001b[0m\n\u001b[0;32m      1\u001b[0m \u001b[1;32mdel\u001b[0m \u001b[0mgeometric_shapes\u001b[0m\u001b[1;33m\u001b[0m\u001b[1;33m\u001b[0m\u001b[0m\n\u001b[1;32m----> 2\u001b[1;33m \u001b[0mgeometric_shapes\u001b[0m\u001b[1;33m\u001b[0m\u001b[1;33m\u001b[0m\u001b[0m\n\u001b[0m",
      "\u001b[1;31mNameError\u001b[0m: name 'geometric_shapes' is not defined"
     ]
    }
   ],
   "source": [
    "del geometric_shapes\n",
    "geometric_shapes"
   ]
  },
  {
   "cell_type": "code",
   "execution_count": 15,
   "id": "a79dcc89",
   "metadata": {},
   "outputs": [
    {
     "data": {
      "text/plain": [
       "set()"
      ]
     },
     "execution_count": 15,
     "metadata": {},
     "output_type": "execute_result"
    }
   ],
   "source": [
    "even_nums.clear()\n",
    "even_nums"
   ]
  },
  {
   "cell_type": "markdown",
   "id": "291cd8ec",
   "metadata": {},
   "source": [
    "### 12.5 Accessing a set"
   ]
  },
  {
   "cell_type": "markdown",
   "id": "104a434b",
   "metadata": {},
   "source": [
    "### For loop method"
   ]
  },
  {
   "cell_type": "code",
   "execution_count": 16,
   "id": "921e9783",
   "metadata": {},
   "outputs": [
    {
     "ename": "NameError",
     "evalue": "name 'geometric_shapes' is not defined",
     "output_type": "error",
     "traceback": [
      "\u001b[1;31m---------------------------------------------------------------------------\u001b[0m",
      "\u001b[1;31mNameError\u001b[0m                                 Traceback (most recent call last)",
      "\u001b[1;32m~\\AppData\\Local\\Temp\\ipykernel_19844\\151914042.py\u001b[0m in \u001b[0;36m<module>\u001b[1;34m\u001b[0m\n\u001b[1;32m----> 1\u001b[1;33m \u001b[1;32mfor\u001b[0m \u001b[0mitem\u001b[0m \u001b[1;32min\u001b[0m \u001b[0mgeometric_shapes\u001b[0m\u001b[1;33m:\u001b[0m\u001b[1;33m\u001b[0m\u001b[1;33m\u001b[0m\u001b[0m\n\u001b[0m\u001b[0;32m      2\u001b[0m     \u001b[0mprint\u001b[0m\u001b[1;33m(\u001b[0m\u001b[0mitem\u001b[0m\u001b[1;33m)\u001b[0m\u001b[1;33m\u001b[0m\u001b[1;33m\u001b[0m\u001b[0m\n",
      "\u001b[1;31mNameError\u001b[0m: name 'geometric_shapes' is not defined"
     ]
    }
   ],
   "source": [
    "for item in geometric_shapes:\n",
    "    print(item)"
   ]
  },
  {
   "cell_type": "markdown",
   "id": "f86dc3cf",
   "metadata": {},
   "source": [
    "### Using 'in'"
   ]
  },
  {
   "cell_type": "code",
   "execution_count": 17,
   "id": "a28a8274",
   "metadata": {},
   "outputs": [
    {
     "name": "stdout",
     "output_type": "stream",
     "text": [
      "False\n"
     ]
    }
   ],
   "source": [
    "print(3 in even_nums)"
   ]
  },
  {
   "cell_type": "code",
   "execution_count": 18,
   "id": "d31f138c",
   "metadata": {},
   "outputs": [
    {
     "name": "stdout",
     "output_type": "stream",
     "text": [
      "False\n"
     ]
    }
   ],
   "source": [
    "print(4 in even_nums)"
   ]
  },
  {
   "cell_type": "markdown",
   "id": "6811bfe1",
   "metadata": {},
   "source": [
    "### 12.6 Set Operations"
   ]
  },
  {
   "cell_type": "markdown",
   "id": "4cba3018",
   "metadata": {},
   "source": [
    "#### 12.6.1 Set Union"
   ]
  },
  {
   "cell_type": "code",
   "execution_count": 19,
   "id": "21c0a877",
   "metadata": {},
   "outputs": [],
   "source": [
    "geometric_shapes = set(['Square', 'Rectangle',\n",
    "                        'Triangle', 'Hexagon', 'Octagon'])"
   ]
  },
  {
   "cell_type": "code",
   "execution_count": 20,
   "id": "4cae5b76",
   "metadata": {},
   "outputs": [],
   "source": [
    "even_nums = {2, 4,6,8,10}"
   ]
  },
  {
   "cell_type": "code",
   "execution_count": 21,
   "id": "cb91a54e",
   "metadata": {},
   "outputs": [
    {
     "data": {
      "text/plain": [
       "{10, 2, 4, 6, 8, 'Hexagon', 'Octagon', 'Rectangle', 'Square', 'Triangle'}"
      ]
     },
     "execution_count": 21,
     "metadata": {},
     "output_type": "execute_result"
    }
   ],
   "source": [
    "math= geometric_shapes.union(even_nums)\n",
    "math"
   ]
  },
  {
   "cell_type": "code",
   "execution_count": 22,
   "id": "56eb5a7e",
   "metadata": {},
   "outputs": [
    {
     "data": {
      "text/plain": [
       "{10, 2, 4, 6, 8, 'Hexagon', 'Octagon', 'Rectangle', 'Square', 'Triangle'}"
      ]
     },
     "execution_count": 22,
     "metadata": {},
     "output_type": "execute_result"
    }
   ],
   "source": [
    "math= geometric_shapes|even_nums\n",
    "math"
   ]
  },
  {
   "cell_type": "markdown",
   "id": "c4bfbb21",
   "metadata": {},
   "source": [
    "#### 12.6.2 Set Intersection"
   ]
  },
  {
   "cell_type": "code",
   "execution_count": 30,
   "id": "02d094b3",
   "metadata": {},
   "outputs": [],
   "source": [
    "A = {1,3,5,7,9,11}\n",
    "B = {2,3,4,5,6,8,11,13,9}"
   ]
  },
  {
   "cell_type": "code",
   "execution_count": 31,
   "id": "ec41d108",
   "metadata": {},
   "outputs": [
    {
     "data": {
      "text/plain": [
       "{3, 5, 9, 11}"
      ]
     },
     "execution_count": 31,
     "metadata": {},
     "output_type": "execute_result"
    }
   ],
   "source": [
    "C = A.intersection(B)\n",
    "C"
   ]
  },
  {
   "cell_type": "code",
   "execution_count": 32,
   "id": "8361d43e",
   "metadata": {},
   "outputs": [
    {
     "data": {
      "text/plain": [
       "{3, 5, 9, 11}"
      ]
     },
     "execution_count": 32,
     "metadata": {},
     "output_type": "execute_result"
    }
   ],
   "source": [
    "A.intersection_update(B)\n",
    "A"
   ]
  },
  {
   "cell_type": "code",
   "execution_count": 33,
   "id": "42f63a63",
   "metadata": {},
   "outputs": [
    {
     "data": {
      "text/plain": [
       "{3, 5, 9, 11}"
      ]
     },
     "execution_count": 33,
     "metadata": {},
     "output_type": "execute_result"
    }
   ],
   "source": [
    "C = A & B\n",
    "C"
   ]
  },
  {
   "cell_type": "markdown",
   "id": "32200170",
   "metadata": {},
   "source": [
    "### 12.6.3 Set Difference"
   ]
  },
  {
   "cell_type": "code",
   "execution_count": 4,
   "id": "1936daf5",
   "metadata": {},
   "outputs": [],
   "source": [
    "odd_nums = {1,3,5,7,9,11}\n",
    "random_nums = {2,3,4,5,6,8,11,13,9}"
   ]
  },
  {
   "cell_type": "code",
   "execution_count": 5,
   "id": "7c40cd98",
   "metadata": {},
   "outputs": [
    {
     "data": {
      "text/plain": [
       "{1, 7}"
      ]
     },
     "execution_count": 5,
     "metadata": {},
     "output_type": "execute_result"
    }
   ],
   "source": [
    "new = odd_nums.difference(random_nums)\n",
    "new"
   ]
  },
  {
   "cell_type": "code",
   "execution_count": 6,
   "id": "9cbeb507",
   "metadata": {},
   "outputs": [],
   "source": [
    "shapes = {'Triangle', 'Rectangle', 'Square'}\n",
    "shapes1 = {'Square', 'Cube', 'Hexagon', 'Rectangle'}"
   ]
  },
  {
   "cell_type": "code",
   "execution_count": 7,
   "id": "eb8f53e5",
   "metadata": {},
   "outputs": [
    {
     "data": {
      "text/plain": [
       "{'Triangle'}"
      ]
     },
     "execution_count": 7,
     "metadata": {},
     "output_type": "execute_result"
    }
   ],
   "source": [
    "shapes.difference_update(shapes1)\n",
    "shapes"
   ]
  },
  {
   "cell_type": "code",
   "execution_count": 8,
   "id": "afb41547",
   "metadata": {},
   "outputs": [
    {
     "data": {
      "text/plain": [
       "{1, 7}"
      ]
     },
     "execution_count": 8,
     "metadata": {},
     "output_type": "execute_result"
    }
   ],
   "source": [
    "new = odd_nums - random_nums\n",
    "new"
   ]
  },
  {
   "cell_type": "markdown",
   "id": "d9f70959",
   "metadata": {},
   "source": [
    "#### 12.6.4 Set Symmetric difference"
   ]
  },
  {
   "cell_type": "code",
   "execution_count": 9,
   "id": "faf73464",
   "metadata": {},
   "outputs": [
    {
     "data": {
      "text/plain": [
       "{1, 2, 4, 6, 7, 8, 13}"
      ]
     },
     "execution_count": 9,
     "metadata": {},
     "output_type": "execute_result"
    }
   ],
   "source": [
    "nums = odd_nums.symmetric_difference(random_nums)\n",
    "nums"
   ]
  },
  {
   "cell_type": "code",
   "execution_count": 10,
   "id": "2e37cc59",
   "metadata": {},
   "outputs": [
    {
     "data": {
      "text/plain": [
       "{1, 2, 4, 6, 7, 8, 13}"
      ]
     },
     "execution_count": 10,
     "metadata": {},
     "output_type": "execute_result"
    }
   ],
   "source": [
    "nums = odd_nums ^ random_nums\n",
    "nums"
   ]
  },
  {
   "cell_type": "markdown",
   "id": "b7217593",
   "metadata": {},
   "source": [
    "### 12.7 Subset and Superset"
   ]
  },
  {
   "cell_type": "code",
   "execution_count": 11,
   "id": "20dc1966",
   "metadata": {},
   "outputs": [],
   "source": [
    "shapes = {'Triangle', 'Rectangle', 'Square'}\n",
    "shapes1 = {'Square', 'Cube', 'Hexagon', 'Rectangle'}"
   ]
  },
  {
   "cell_type": "code",
   "execution_count": 12,
   "id": "b0b779c5",
   "metadata": {},
   "outputs": [],
   "source": [
    "s = shapes.issubset(shapes1)"
   ]
  },
  {
   "cell_type": "code",
   "execution_count": 13,
   "id": "120acba1",
   "metadata": {},
   "outputs": [
    {
     "data": {
      "text/plain": [
       "False"
      ]
     },
     "execution_count": 13,
     "metadata": {},
     "output_type": "execute_result"
    }
   ],
   "source": [
    "s"
   ]
  },
  {
   "cell_type": "code",
   "execution_count": 14,
   "id": "7939aea4",
   "metadata": {},
   "outputs": [],
   "source": [
    "shapes1 = {'Square', 'Cube', 'Hexagon', 'Rectangle'}\n",
    "shapes2 = {'Square', 'Cube'}"
   ]
  },
  {
   "cell_type": "code",
   "execution_count": 15,
   "id": "4def2077",
   "metadata": {},
   "outputs": [
    {
     "data": {
      "text/plain": [
       "True"
      ]
     },
     "execution_count": 15,
     "metadata": {},
     "output_type": "execute_result"
    }
   ],
   "source": [
    "superset = shapes1.issuperset(shapes2)\n",
    "superset"
   ]
  },
  {
   "cell_type": "code",
   "execution_count": null,
   "id": "cf7165b5",
   "metadata": {},
   "outputs": [],
   "source": []
  }
 ],
 "metadata": {
  "kernelspec": {
   "display_name": "Python 3 (ipykernel)",
   "language": "python",
   "name": "python3"
  },
  "language_info": {
   "codemirror_mode": {
    "name": "ipython",
    "version": 3
   },
   "file_extension": ".py",
   "mimetype": "text/x-python",
   "name": "python",
   "nbconvert_exporter": "python",
   "pygments_lexer": "ipython3",
   "version": "3.7.13"
  }
 },
 "nbformat": 4,
 "nbformat_minor": 5
}
